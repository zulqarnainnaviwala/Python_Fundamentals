{
 "cells": [
  {
   "cell_type": "markdown",
   "metadata": {},
   "source": [
    "# Removing All Instances of Specific Values from a List"
   ]
  },
  {
   "cell_type": "code",
   "execution_count": 1,
   "metadata": {},
   "outputs": [
    {
     "name": "stdout",
     "output_type": "stream",
     "text": [
      "['dog', 'cat', 'dog', 'goldfish', 'cat', 'rabbit', 'cat']\n",
      "['dog', 'dog', 'goldfish', 'rabbit']\n"
     ]
    }
   ],
   "source": [
    "pets = ['dog', 'cat', 'dog', 'goldfish', 'cat', 'rabbit', 'cat']\n",
    "print(pets)\n",
    "while 'cat' in pets:\n",
    "    pets.remove('cat')\n",
    "\n",
    "print(pets)"
   ]
  },
  {
   "cell_type": "markdown",
   "metadata": {},
   "source": [
    "# functions"
   ]
  },
  {
   "cell_type": "code",
   "execution_count": 8,
   "metadata": {},
   "outputs": [
    {
     "name": "stdout",
     "output_type": "stream",
     "text": [
      "Hello 6 !\n"
     ]
    }
   ],
   "source": [
    "def user(name):\n",
    "    print('Hello' , name , '!' )\n",
    "user(6)   "
   ]
  },
  {
   "cell_type": "code",
   "execution_count": 9,
   "metadata": {},
   "outputs": [
    {
     "name": "stdout",
     "output_type": "stream",
     "text": [
      "Hello, Zara!\n",
      "Hello, Zoya!\n",
      "Hello, Zulqarnain!\n"
     ]
    }
   ],
   "source": [
    "def greet_users(names):   \n",
    "    for name in names:       \n",
    "        msg = \"Hello, \" + name.title() + \"!\"        \n",
    "        print(msg)\n",
    "usernames = ['zara', 'zoya', 'zulqarnain'] \n",
    "greet_users(usernames)"
   ]
  },
  {
   "cell_type": "code",
   "execution_count": 10,
   "metadata": {},
   "outputs": [
    {
     "name": "stdout",
     "output_type": "stream",
     "text": [
      "Hey!we are learning in this chap about functions and much more.....\n"
     ]
    }
   ],
   "source": [
    "def display_message(message):\n",
    "    print('Hey!'+ message + '....')\n",
    "display_message('we are learning in this chap about functions and much more.')   "
   ]
  },
  {
   "cell_type": "code",
   "execution_count": 11,
   "metadata": {},
   "outputs": [
    {
     "name": "stdout",
     "output_type": "stream",
     "text": [
      "DEEP LEARNING WITH PYTHON is one of my favourite book.\n"
     ]
    }
   ],
   "source": [
    "def favourite_book(BookName):\n",
    "    print(BookName.upper() , 'is one of my favourite book.')\n",
    "favourite_book('Deep Learning with python')    "
   ]
  },
  {
   "cell_type": "code",
   "execution_count": 12,
   "metadata": {},
   "outputs": [
    {
     "name": "stdout",
     "output_type": "stream",
     "text": [
      "\n",
      " Hamster is the type of my animal.\n",
      "The name of my Hamster is  TOMMY .\n",
      "\n",
      " Dog is the type of my animal.\n",
      "The name of my Dog is  HARRY .\n"
     ]
    }
   ],
   "source": [
    "def animal(type , name):\n",
    "    \n",
    "    print('\\n', type.title() , 'is the type of my animal.')\n",
    "    print('The name of my ' + type.title() +' is ' , name.upper() , '.')\n",
    "    \n",
    "animal('hamster' , 'tommy')\n",
    "animal('dog' , 'harry')"
   ]
  },
  {
   "cell_type": "code",
   "execution_count": 13,
   "metadata": {},
   "outputs": [
    {
     "name": "stdout",
     "output_type": "stream",
     "text": [
      "I have an audi .\n",
      "I have an  samsung .\n"
     ]
    }
   ],
   "source": [
    "def myself(car  , name = 'zee' , mobile = 'samsung' ):\n",
    "    print('I have an' , car , '.')\n",
    "    print('I have an ' , mobile, '.')\n",
    "myself('audi')    "
   ]
  },
  {
   "cell_type": "code",
   "execution_count": 14,
   "metadata": {},
   "outputs": [
    {
     "name": "stdout",
     "output_type": "stream",
     "text": [
      "The size of your shirt is  16 .\n",
      "The text you want to written on your shirt  BETA TM SY NA HOO PY GA .\n",
      "The size of your shirt is  16 inch , the text you want to print on your shirt is  BETA TM SY NA HOO PY GA \n",
      " \"THANK YOU FOR YOUR SHOPPING.\"\n"
     ]
    }
   ],
   "source": [
    "def make_shirt(size , text= 'beta tm sy na hoo py ga'):\n",
    "    print('The size of your shirt is ' , size , '.')\n",
    "    print('The text you want to written on your shirt ' , text.upper() , '.')\n",
    "    print('The size of your shirt is ' , size , 'inch , the text you want to print on your shirt is ' , text.upper() , '\\n \"THANK YOU FOR YOUR SHOPPING.\"')\n",
    "    \n",
    "make_shirt(16)    "
   ]
  },
  {
   "cell_type": "code",
   "execution_count": 15,
   "metadata": {},
   "outputs": [
    {
     "name": "stdout",
     "output_type": "stream",
     "text": [
      "Tooba Khan\n",
      "Muhammad Hamza Khan\n"
     ]
    }
   ],
   "source": [
    "def get_name(firstname , lastname  , middlename = ''):\n",
    "    if middlename:\n",
    "        fullname = firstname + ' ' + middlename + ' ' + lastname\n",
    "    else:\n",
    "        fullname = firstname + ' ' + lastname\n",
    "    return fullname.title()\n",
    "\n",
    "a = get_name('tooba' ,'khan')\n",
    "print(a)\n",
    "b = get_name('Muhammad' , 'Khan' , 'hamza')\n",
    "print(b)  "
   ]
  },
  {
   "cell_type": "code",
   "execution_count": 16,
   "metadata": {},
   "outputs": [
    {
     "data": {
      "text/plain": [
       "{'first': 'muhamamd', 'last': 'zulqarnain'}"
      ]
     },
     "execution_count": 16,
     "metadata": {},
     "output_type": "execute_result"
    }
   ],
   "source": [
    "def person(firstname , lastname):\n",
    "    buildperson= {'first' : firstname , 'last' : lastname}\n",
    "    return buildperson\n",
    "person('muhamamd' , 'zulqarnain')"
   ]
  },
  {
   "cell_type": "code",
   "execution_count": 17,
   "metadata": {},
   "outputs": [
    {
     "name": "stdout",
     "output_type": "stream",
     "text": [
      "The name of wife is  Alishba  and the name of husband is Owais .\n"
     ]
    }
   ],
   "source": [
    "def couple(hname,wname):\n",
    "    print('The name of wife is ' , wname.title() , ' and the name of husband is' , hname.title() , '.')\n",
    "couple( wname = 'alishba' , hname =  'owais')    "
   ]
  },
  {
   "cell_type": "code",
   "execution_count": 18,
   "metadata": {},
   "outputs": [
    {
     "data": {
      "text/plain": [
       "'Shahzad Ahsan'"
      ]
     },
     "execution_count": 18,
     "metadata": {},
     "output_type": "execute_result"
    }
   ],
   "source": [
    "def name (first_name , last_name):\n",
    "    full_name = first_name + ' ' + last_name\n",
    "    return full_name.title()\n",
    "\n",
    "name('Shahzad' , 'Ahsan')"
   ]
  },
  {
   "cell_type": "code",
   "execution_count": 19,
   "metadata": {},
   "outputs": [
    {
     "name": "stdout",
     "output_type": "stream",
     "text": [
      "{'first': 'jimi', 'last': 'hendrix', 'age': 27}\n"
     ]
    }
   ],
   "source": [
    "def build_person(first_name, last_name, age=''):    \n",
    "    person = {'first': first_name, 'last': last_name}   \n",
    "    if age:       \n",
    "        person['age'] = age   \n",
    "    return person\n",
    "\n",
    "musician = build_person('jimi', 'hendrix',age = 27)\n",
    "print(musician)"
   ]
  },
  {
   "cell_type": "code",
   "execution_count": 20,
   "metadata": {},
   "outputs": [
    {
     "name": "stdout",
     "output_type": "stream",
     "text": [
      "\n",
      "Making a pizza with the following toppings:\n",
      "-  pepperoni\n",
      "\n",
      "Making a pizza with the following toppings:\n",
      "-  mushrooms\n",
      "-  green peppers\n",
      "-  extra cheese\n"
     ]
    }
   ],
   "source": [
    "def make_pizza(*toppings):    \n",
    "    print(\"\\nMaking a pizza with the following toppings:\")    \n",
    "    for topping in toppings:        \n",
    "        print(\"- \" , topping)       \n",
    "        \n",
    "make_pizza('pepperoni')\n",
    "make_pizza('mushrooms', 'green peppers', 'extra cheese')"
   ]
  },
  {
   "cell_type": "code",
   "execution_count": 21,
   "metadata": {},
   "outputs": [
    {
     "name": "stdout",
     "output_type": "stream",
     "text": [
      "small pepperoni {'drinks': 'pepsi', 'drinks1': 'cola'}\n",
      "large green peppers {'drinks': 'wisky'}\n"
     ]
    }
   ],
   "source": [
    "def make_pizza(size , *toppings  , **extra):    \n",
    "    print( size , toppings[0], extra )\n",
    "    \n",
    "make_pizza('small','pepperoni' , drinks='pepsi' , drinks1 = 'cola' ) \n",
    "make_pizza('large', 'green peppers', 'extra cheese' , drinks = 'wisky')"
   ]
  },
  {
   "cell_type": "code",
   "execution_count": 30,
   "metadata": {},
   "outputs": [
    {
     "name": "stdout",
     "output_type": "stream",
     "text": [
      "hello friends\n",
      "python\n"
     ]
    }
   ],
   "source": [
    "def a(x, y):\n",
    "    print (x, y)\n",
    "\n",
    "def b(other, function, *args, **kwargs):\n",
    "    function(*args, **kwargs)\n",
    "    print (other)\n",
    "\n",
    "b('python', a , 'hello', 'friends')"
   ]
  },
  {
   "cell_type": "code",
   "execution_count": null,
   "metadata": {},
   "outputs": [],
   "source": []
  }
 ],
 "metadata": {
  "kernelspec": {
   "display_name": "Python 3",
   "language": "python",
   "name": "python3"
  },
  "language_info": {
   "codemirror_mode": {
    "name": "ipython",
    "version": 3
   },
   "file_extension": ".py",
   "mimetype": "text/x-python",
   "name": "python",
   "nbconvert_exporter": "python",
   "pygments_lexer": "ipython3",
   "version": "3.7.4"
  }
 },
 "nbformat": 4,
 "nbformat_minor": 2
}
