{
 "cells": [
  {
   "cell_type": "code",
   "execution_count": 1,
   "metadata": {},
   "outputs": [
    {
     "name": "stdout",
     "output_type": "stream",
     "text": [
      "[1, 4, 9, 16, 25, 36, 49, 64, 81, 100]\n"
     ]
    }
   ],
   "source": [
    "square = [value **2 for value in range(1,11)]\n",
    "print(square)"
   ]
  },
  {
   "cell_type": "markdown",
   "metadata": {},
   "source": [
    "Odd Numbers: Use the third argument of the range() function to make a list\n",
    "of the odd numbers from 1 to 20. Use a for loop to print each number"
   ]
  },
  {
   "cell_type": "code",
   "execution_count": 3,
   "metadata": {},
   "outputs": [
    {
     "name": "stdout",
     "output_type": "stream",
     "text": [
      "[1, 3, 5, 7, 9, 11, 13, 15, 17, 19, 21, 23, 25, 27, 29]\n"
     ]
    }
   ],
   "source": [
    "oddnum = list(range(1,30,2))\n",
    "print(oddnum)"
   ]
  },
  {
   "cell_type": "markdown",
   "metadata": {},
   "source": [
    "Make a list of the multiples of 3 from 3 to 30. Use a for loop to\n",
    "print the numbers in your list."
   ]
  },
  {
   "cell_type": "code",
   "execution_count": 1,
   "metadata": {},
   "outputs": [
    {
     "name": "stdout",
     "output_type": "stream",
     "text": [
      "[0, 3, 6, 9, 12, 15, 18, 21, 24, 27, 30]\n"
     ]
    }
   ],
   "source": [
    "Table_of_three = list(range(0,31,3))\n",
    "print(Table_of_three)"
   ]
  },
  {
   "cell_type": "code",
   "execution_count": 39,
   "metadata": {},
   "outputs": [
    {
     "name": "stdout",
     "output_type": "stream",
     "text": [
      "['Atlanta', 'Baltimore', 'Chicago', 'Denver', 'Los Angeles', 'Seattle']\n"
     ]
    }
   ],
   "source": [
    "cities = [\"Atlanta\", \"Baltimore\", \"Chicago\",\"Denver\", \"Los Angeles\", \"Seattle\"]\n",
    "print(cities)"
   ]
  },
  {
   "cell_type": "code",
   "execution_count": 40,
   "metadata": {},
   "outputs": [
    {
     "name": "stdout",
     "output_type": "stream",
     "text": [
      "['Atlanta', 'Baltimore', 'Chicago', 'Denver', 'Los Angeles', 'Seattle', 'New York']\n"
     ]
    }
   ],
   "source": [
    "cities = [\"Atlanta\", \"Baltimore\", \"Chicago\",\"Denver\", \"Los Angeles\", \"Seattle\"]\n",
    "cities.append(\"New York\")\n",
    "print(cities)"
   ]
  },
  {
   "cell_type": "code",
   "execution_count": 41,
   "metadata": {},
   "outputs": [
    {
     "name": "stdout",
     "output_type": "stream",
     "text": [
      "['\"Samsung\" , \"apple\" , \"htc\" ,\"motorolla\"']\n"
     ]
    }
   ],
   "source": [
    "mobile = ['\"Samsung\" , \"apple\" , \"htc\" ,\"motorolla\"']\n",
    "print(mobile)"
   ]
  },
  {
   "cell_type": "code",
   "execution_count": 42,
   "metadata": {},
   "outputs": [
    {
     "name": "stdout",
     "output_type": "stream",
     "text": [
      "['Atlanta', 'Baltimore', 'Chicago', 'Denver', 'Los Angeles', 'Seattle', 'New York', 'Dubuque', 'New Orleans']\n"
     ]
    }
   ],
   "source": [
    "cities = cities + [\"Dubuque\", \"New Orleans\"]\n",
    "print(cities)"
   ]
  },
  {
   "cell_type": "code",
   "execution_count": 43,
   "metadata": {},
   "outputs": [
    {
     "name": "stdout",
     "output_type": "stream",
     "text": [
      "['Walk dog', 'Buy groceries']\n"
     ]
    }
   ],
   "source": [
    "todays_tasks = []\n",
    "todays_tasks = todays_tasks + [\"Walk dog\", \"Buy groceries\"]\n",
    "print(todays_tasks)"
   ]
  },
  {
   "cell_type": "markdown",
   "metadata": {},
   "source": [
    "# Slicing a list"
   ]
  },
  {
   "cell_type": "code",
   "execution_count": 4,
   "metadata": {},
   "outputs": [
    {
     "name": "stdout",
     "output_type": "stream",
     "text": [
      "['afridi', 'misbah', 'malik']\n"
     ]
    }
   ],
   "source": [
    "players = ['afridi', 'misbah', 'malik', 'amir', 'ajmal']\n",
    "print(players[0:3])"
   ]
  },
  {
   "cell_type": "code",
   "execution_count": 5,
   "metadata": {},
   "outputs": [
    {
     "name": "stdout",
     "output_type": "stream",
     "text": [
      "['martina', 'michael', 'florence']\n"
     ]
    }
   ],
   "source": [
    "players = ['charles', 'martina', 'michael', 'florence', 'eli']\n",
    "print(players[1:4])"
   ]
  },
  {
   "cell_type": "code",
   "execution_count": 6,
   "metadata": {},
   "outputs": [
    {
     "name": "stdout",
     "output_type": "stream",
     "text": [
      "['charles', 'martina', 'dukky', 'chris']\n"
     ]
    }
   ],
   "source": [
    "players = ['charles', 'martina', 'dukky', 'chris', 'Rika']\n",
    "print(players[:4])"
   ]
  },
  {
   "cell_type": "code",
   "execution_count": 7,
   "metadata": {},
   "outputs": [
    {
     "name": "stdout",
     "output_type": "stream",
     "text": [
      "['michael', 'florence', 'eli']\n"
     ]
    }
   ],
   "source": [
    "players = ['charles', 'martina', 'michael', 'florence', 'eli']\n",
    "print(players[2:])\n"
   ]
  },
  {
   "cell_type": "code",
   "execution_count": 8,
   "metadata": {},
   "outputs": [
    {
     "name": "stdout",
     "output_type": "stream",
     "text": [
      "['michael', 'florence', 'eli']\n"
     ]
    }
   ],
   "source": [
    "players = ['charles', 'martina', 'michael', 'florence', 'eli']\n",
    "print(players[-3:])\n"
   ]
  },
  {
   "cell_type": "code",
   "execution_count": 9,
   "metadata": {},
   "outputs": [
    {
     "name": "stdout",
     "output_type": "stream",
     "text": [
      "Here are the first three players on my team:\n",
      "Charles\n",
      "Martina\n",
      "Michael\n"
     ]
    }
   ],
   "source": [
    "players = ['charles', 'martina', 'michael', 'florence', 'eli']\n",
    "print(\"Here are the first three players on my team:\")\n",
    "for player in players[:3]:\n",
    "    print(player.title())"
   ]
  },
  {
   "cell_type": "code",
   "execution_count": 4,
   "metadata": {},
   "outputs": [
    {
     "name": "stdout",
     "output_type": "stream",
     "text": [
      "My favourite foods are:\n",
      "['Mutton karahi', 'Fish', 'Malai boti']\n",
      "\n",
      "My friend favourite foods are:\n",
      "['Mutton karahi', 'Fish', 'Malai boti']\n"
     ]
    }
   ],
   "source": [
    "my_foods = ['Mutton karahi' , 'Fish' , 'Malai boti']\n",
    "friends_food = my_foods[:]\n",
    "\n",
    "print('My favourite foods are:')\n",
    "print(my_foods)\n",
    "print('\\nMy friend favourite foods are:')\n",
    "print(friends_food)"
   ]
  },
  {
   "cell_type": "code",
   "execution_count": 5,
   "metadata": {},
   "outputs": [
    {
     "name": "stdout",
     "output_type": "stream",
     "text": [
      "My favourite foods are:\n",
      "['Mutton karahi', 'Fish', 'Malai boti', 'Chicken handi']\n",
      "\n",
      "My friend favourite foods are:\n",
      "['Mutton karahi', 'Fish', 'Malai boti', 'beaf biryani']\n"
     ]
    }
   ],
   "source": [
    "my_foods = ['Mutton karahi' , 'Fish' , 'Malai boti']\n",
    "friends_food = my_foods[:]\n",
    "\n",
    "my_foods.append('Chicken handi')\n",
    "friends_food.append('beaf biryani')\n",
    "\n",
    "print('My favourite foods are:')\n",
    "print(my_foods)\n",
    "print('\\nMy friend favourite foods are:')\n",
    "print(friends_food)"
   ]
  },
  {
   "cell_type": "markdown",
   "metadata": {},
   "source": [
    "Using one of the programs you wrote in this chapter, add several\n",
    "lines to the end of the program that do the following:\n",
    "\n",
    "•\t Print the message, The first three items in the list are:. Then use a slice to\n",
    "print the first three items from that program’s list.\n",
    "\n",
    "•\t Print the message, Three items from the middle of the list are:. Use a slice\n",
    "to print three items from the middle of the list.\n",
    "\n",
    "•\t Print the message, The last three items in the list are:. Use a slice to print\n",
    "the last three items in the list."
   ]
  },
  {
   "cell_type": "code",
   "execution_count": 32,
   "metadata": {},
   "outputs": [
    {
     "name": "stdout",
     "output_type": "stream",
     "text": [
      "The first three items in the list are given below :\n",
      "`Fish And Chips\n",
      "`Biryani\n",
      "`Tikka\n",
      "\n",
      "Middle three items of the list are given below :\n",
      "` Handi\n",
      "` Karahi\n",
      "` Boti\n",
      "\n",
      "The last three items of the list are given below :\n",
      "` Chinses\n",
      "` Qorma\n",
      "` Ice Cream\n"
     ]
    }
   ],
   "source": [
    "foods = ['fish and chips' , 'biryani' , 'tikka' , 'handi' , 'karahi' , 'boti' , 'chinses' , 'qorma' , 'ice cream']\n",
    "print('The first three items in the list are given below :')\n",
    "for food in foods[:3]:\n",
    "    print('`' + food.title())\n",
    "    \n",
    "print('\\nMiddle three items of the list are given below :')\n",
    "for foodies in foods[3:6]:\n",
    "    print('`',foodies.title())\n",
    "    \n",
    "print('\\nThe last three items of the list are given below :')\n",
    "for dinner in foods[6:]:\n",
    "    print('`',dinner.title())\n",
    "\n"
   ]
  },
  {
   "cell_type": "markdown",
   "metadata": {},
   "source": [
    "Make a copy of the list of pizzas, and call it friend_pizzas.\n",
    "Then, do the following:\n",
    "    \n",
    "• Add a new pizza to the original list.\n",
    "\n",
    "• Add a different pizza to the list friend_pizzas.\n",
    "\n",
    "•Prove that you have two separate lists. Print the message, My favorite\n",
    "pizzas are:, and then use a for loop to print the first list. Print the message,\n",
    "My friend’s favorite pizzas are:, and then use a for loop to print the second list. "
   ]
  },
  {
   "cell_type": "code",
   "execution_count": 38,
   "metadata": {},
   "outputs": [
    {
     "name": "stdout",
     "output_type": "stream",
     "text": [
      "My favourite Pizza are : \n",
      "\n",
      "*CHICAGO BOLD FOLD*\n",
      "*DANCING FAJITA*\n",
      "*POPPIN BBQ*\n",
      "*TARZAN TIKKA*\n",
      "*WEST SIDE GARLIC*\n",
      "\n",
      "My friend favourite pizza are : \n",
      "\n",
      "*CHICAGO BOLD FOLD*\n",
      "*DANCING FAJITA*\n",
      "*POPPIN BBQ*\n",
      "*TARZAN TIKKA*\n",
      "*CHICKEN SMOKE*\n"
     ]
    }
   ],
   "source": [
    "friend_pizza = ['chicago bold fold' , 'dancing fajita' , 'poppin bbq' , 'tarzan tikka']\n",
    "original_list = friend_pizza[:]\n",
    "\n",
    "friend_pizza.append('west side garlic')\n",
    "original_list.append('chicken smoke')\n",
    "\n",
    "print('My favourite Pizza are : \\n')\n",
    "for mypizza  in friend_pizza:\n",
    "    print('*' + mypizza.upper()+ '*')\n",
    "    \n",
    "print('\\nMy friend favourite pizza are : \\n')\n",
    "for yourpizza in original_list:\n",
    "    print('*' + yourpizza.upper() + '*')"
   ]
  },
  {
   "cell_type": "code",
   "execution_count": null,
   "metadata": {},
   "outputs": [],
   "source": []
  },
  {
   "cell_type": "code",
   "execution_count": null,
   "metadata": {},
   "outputs": [],
   "source": []
  }
 ],
 "metadata": {
  "kernelspec": {
   "display_name": "Python 3",
   "language": "python",
   "name": "python3"
  },
  "language_info": {
   "codemirror_mode": {
    "name": "ipython",
    "version": 3
   },
   "file_extension": ".py",
   "mimetype": "text/x-python",
   "name": "python",
   "nbconvert_exporter": "python",
   "pygments_lexer": "ipython3",
   "version": "3.6.4"
  }
 },
 "nbformat": 4,
 "nbformat_minor": 2
}
