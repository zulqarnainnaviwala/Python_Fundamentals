{
 "cells": [
  {
   "cell_type": "markdown",
   "metadata": {},
   "source": [
    "# A Dictionary of Similar Objects"
   ]
  },
  {
   "cell_type": "code",
   "execution_count": 2,
   "metadata": {},
   "outputs": [
    {
     "name": "stdout",
     "output_type": "stream",
     "text": [
      "Jen's favorite language is Python.\n",
      "Edward's favorite language is Ruby.\n"
     ]
    }
   ],
   "source": [
    "favorite_languages = {'jen': 'python','sarah': 'c','edward': 'ruby','phil': 'python'}\n",
    "\n",
    "print(\"Jen's favorite language is \" + favorite_languages['jen'].title() + \".\")\n",
    "\n",
    "print(\"Edward's favorite language is \" + favorite_languages['edward'].title() + \".\")"
   ]
  },
  {
   "cell_type": "raw",
   "metadata": {},
   "source": [
    "Use a dictionary to store information about a person you know.\n",
    "\n",
    "Store their first name, last name, age, and the city in which they live. You\n",
    "should have keys such as first_name, last_name, age, and city.\n",
    "\n",
    "Print each piece of information stored in your dictionary."
   ]
  },
  {
   "cell_type": "code",
   "execution_count": null,
   "metadata": {},
   "outputs": [],
   "source": []
  },
  {
   "cell_type": "markdown",
   "metadata": {},
   "source": [
    "# Looping Through a Dictionary"
   ]
  },
  {
   "cell_type": "code",
   "execution_count": 5,
   "metadata": {},
   "outputs": [
    {
     "name": "stdout",
     "output_type": "stream",
     "text": [
      "\n",
      "Key: Teacher\n",
      "Value: Sir Nasir\n",
      "\n",
      "Key: Teacher_Assistant\n",
      "Value: Muhammad Ali\n",
      "\n",
      "Key: Student\n",
      "Value: Zulqarnain\n"
     ]
    }
   ],
   "source": [
    "user_0 = {'Teacher': 'Sir Nasir','Teacher_Assistant': 'Muhammad Ali','Student': 'Zulqarnain'}\n",
    "\n",
    "for key, value in user_0.items():\n",
    "    \n",
    "    \n",
    "    print(\"\\nKey: \" + key)\n",
    "    print(\"Value: \" + value)"
   ]
  },
  {
   "cell_type": "code",
   "execution_count": 7,
   "metadata": {},
   "outputs": [
    {
     "name": "stdout",
     "output_type": "stream",
     "text": [
      "My First name is Muhammad  and my last name is Zulqarnain.\n",
      "My First name is Sara Ali and my last name is Khan.\n",
      "My First name is Komal and my last name is Aftab.\n",
      "My First name is Hassan and my last name is Dhedhi.\n"
     ]
    }
   ],
   "source": [
    "names = {'Muhammad ':'Zulqarnain' , 'Sara Ali':'Khan' , 'Komal':'Aftab' , 'Hassan':'Dhedhi'}\n",
    "\n",
    "for first_name , last_name in names.items():\n",
    "    \n",
    "    print('My First name is ' + first_name.title() + ' and my last name is ' + last_name.title() + '.')"
   ]
  },
  {
   "cell_type": "markdown",
   "metadata": {},
   "source": [
    "# Looping Through All the Keys in a Dictionary"
   ]
  },
  {
   "cell_type": "code",
   "execution_count": 8,
   "metadata": {},
   "outputs": [
    {
     "name": "stdout",
     "output_type": "stream",
     "text": [
      "Dict: mobile\n",
      "Dict: batsman\n",
      "Dict: bike\n",
      "Dict: car\n"
     ]
    }
   ],
   "source": [
    "words = {'mobile':'apple' , 'batsman':'AB' , 'bike':'Heavy' , 'car':'Audi'}\n",
    "\n",
    "for word in words.keys():\n",
    "    \n",
    "    print('Dict: ' + word)\n",
    "    "
   ]
  },
  {
   "cell_type": "code",
   "execution_count": 9,
   "metadata": {},
   "outputs": [
    {
     "name": "stdout",
     "output_type": "stream",
     "text": [
      "Dict: apple\n",
      "Dict: AB\n",
      "Dict: Heavy\n",
      "Dict: Audi\n"
     ]
    }
   ],
   "source": [
    "words = {'mobile':'apple' , 'batsman':'AB' , 'bike':'Heavy' , 'car':'Audi'}\n",
    "\n",
    "for word in words.values():\n",
    "    \n",
    "    print('Dict: ' + word)"
   ]
  },
  {
   "cell_type": "code",
   "execution_count": 10,
   "metadata": {},
   "outputs": [
    {
     "name": "stdout",
     "output_type": "stream",
     "text": [
      "Please write your last name also...\n"
     ]
    }
   ],
   "source": [
    "alien1 = {'name':'Anas' , 'color':'green' , 'height':'5.7' , 'weight':'67'}\n",
    "\n",
    "if 'last_name' not in alien1.keys():\n",
    "    \n",
    "    print(\"Please write your last name also...\")"
   ]
  },
  {
   "cell_type": "markdown",
   "metadata": {},
   "source": [
    "# Looping Through a Dictionary’s Keys in Order"
   ]
  },
  {
   "cell_type": "code",
   "execution_count": 11,
   "metadata": {},
   "outputs": [
    {
     "name": "stdout",
     "output_type": "stream",
     "text": [
      "SAIF, have a good day.\n",
      "SHEHARYAR, have a good day.\n",
      "ZOHIAB, have a good day.\n",
      "AHMED, have a good day.\n",
      "ALI, have a good day.\n",
      "NAVEED, have a good day.\n",
      "UMER, have a good day.\n"
     ]
    }
   ],
   "source": [
    "name1 = {'Sheharyar':'Zafar' , 'Saif':'Zafar' , 'Zohiab':'owais' , 'umer':'najeeb' ,'ali':'khan' , 'ahmed':'amjad' , \n",
    "        'naveed':'zia'}\n",
    "\n",
    "for new_names in sorted(name1.keys()):\n",
    "    \n",
    "    print(new_names.upper() + ', have a good day.')"
   ]
  },
  {
   "cell_type": "code",
   "execution_count": 12,
   "metadata": {},
   "outputs": [
    {
     "name": "stdout",
     "output_type": "stream",
     "text": [
      "Edward, thank you for taking the poll.\n",
      "Jen, thank you for taking the poll.\n",
      "Phil, thank you for taking the poll.\n",
      "Sarah, thank you for taking the poll.\n"
     ]
    }
   ],
   "source": [
    "favorite_languages = {'jen': 'python','sarah': 'c','edward': 'ruby','phil': 'python'}\n",
    "\n",
    "for name in sorted(favorite_languages.keys()):\n",
    "    print(name.title() + \", thank you for taking the poll.\")"
   ]
  },
  {
   "cell_type": "markdown",
   "metadata": {},
   "source": [
    "# A List of Dict"
   ]
  },
  {
   "cell_type": "code",
   "execution_count": 13,
   "metadata": {},
   "outputs": [
    {
     "name": "stdout",
     "output_type": "stream",
     "text": [
      "{'color': 'green', 'points': 5}\n",
      "{'color': 'yellow', 'points': 10}\n",
      "{'color': 'red', 'points': 15}\n"
     ]
    }
   ],
   "source": [
    "alien_0 = {'color': 'green', 'points': 5}\n",
    "alien_1 = {'color': 'yellow', 'points': 10}\n",
    "alien_2 = {'color': 'red', 'points': 15}\n",
    "\n",
    "aliens = [alien_0, alien_1, alien_2]\n",
    "\n",
    "\n",
    "for alien in aliens:\n",
    "    print(alien)"
   ]
  },
  {
   "cell_type": "code",
   "execution_count": 14,
   "metadata": {},
   "outputs": [
    {
     "name": "stdout",
     "output_type": "stream",
     "text": [
      "{'color': 'green', 'points': 5, 'speed': 'slow'}\n",
      "{'color': 'green', 'points': 5, 'speed': 'slow'}\n",
      "{'color': 'green', 'points': 5, 'speed': 'slow'}\n",
      "{'color': 'green', 'points': 5, 'speed': 'slow'}\n",
      "{'color': 'green', 'points': 5, 'speed': 'slow'}\n",
      "...\n",
      "Total number of aliens: 30\n"
     ]
    }
   ],
   "source": [
    "aliens = []\n",
    "# Make 30 green aliens.\n",
    "for alien_number in range(30):\n",
    "    new_alien = {'color': 'green', 'points': 5, 'speed': 'slow'}\n",
    "    aliens.append(new_alien)\n",
    "\n",
    "# Show the first 5 aliens:\n",
    "for alien in aliens[:5]:\n",
    "    print(alien)\n",
    "print(\"...\")\n",
    "# Show how many aliens have been created.\n",
    "print(\"Total number of aliens: \" + str(len(aliens)))"
   ]
  },
  {
   "cell_type": "code",
   "execution_count": null,
   "metadata": {},
   "outputs": [],
   "source": []
  }
 ],
 "metadata": {
  "kernelspec": {
   "display_name": "Python 3",
   "language": "python",
   "name": "python3"
  },
  "language_info": {
   "codemirror_mode": {
    "name": "ipython",
    "version": 3
   },
   "file_extension": ".py",
   "mimetype": "text/x-python",
   "name": "python",
   "nbconvert_exporter": "python",
   "pygments_lexer": "ipython3",
   "version": "3.7.4"
  }
 },
 "nbformat": 4,
 "nbformat_minor": 2
}
