{
 "cells": [
  {
   "cell_type": "markdown",
   "metadata": {},
   "source": [
    "# User input and while loop\n"
   ]
  },
  {
   "cell_type": "code",
   "execution_count": 3,
   "metadata": {},
   "outputs": [
    {
     "name": "stdout",
     "output_type": "stream",
     "text": [
      "Enter for money: 45\n",
      "A message\n"
     ]
    }
   ],
   "source": [
    "while True:\n",
    "    a = int(input(\"Enter for money: \"))\n",
    "    if a == 0:\n",
    "        print(\"you have zero cash\")\n",
    "    else:\n",
    "        print(\"A message\")\n",
    "        break\n"
   ]
  },
  {
   "cell_type": "code",
   "execution_count": 10,
   "metadata": {},
   "outputs": [
    {
     "name": "stdout",
     "output_type": "stream",
     "text": [
      "Tell me something i'll repeat to you: \n",
      "Enter 'quit' to close the program.zulqarnain\n",
      "zulqarnain\n",
      "Tell me something i'll repeat to you: \n",
      "Enter 'quit' to close the program.hm\n",
      "hm\n",
      "Tell me something i'll repeat to you: \n",
      "Enter 'quit' to close the program.acha\n",
      "acha\n",
      "Tell me something i'll repeat to you: \n",
      "Enter 'quit' to close the program.thek hai\n",
      "thek hai\n",
      "Tell me something i'll repeat to you: \n",
      "Enter 'quit' to close the program.quit\n"
     ]
    }
   ],
   "source": [
    "prompt = \"Tell me something i'll repeat to you: \"\n",
    "prompt += \"\\nEnter 'quit' to close the program.\"\n",
    "message = ''\n",
    "while message != 'quit':\n",
    "    \n",
    "    message = input(prompt).lower()\n",
    "    if message == 'quit':\n",
    "        break\n",
    "    print(message)\n",
    "\n"
   ]
  },
  {
   "cell_type": "code",
   "execution_count": 11,
   "metadata": {},
   "outputs": [
    {
     "name": "stdout",
     "output_type": "stream",
     "text": [
      "Enter your today schedule\n",
      "Enter Done when done with scheduling\n",
      ">  lunch\n",
      ">  exercise\n",
      ">  quit\n",
      "\n",
      "Here is your all day schedule\n",
      "Lunch\n",
      "Exercise\n"
     ]
    }
   ],
   "source": [
    "print(\"Enter your today schedule\")\n",
    "print(\"Enter Done when done with scheduling\")\n",
    "\n",
    "todo_list = []\n",
    "while True:\n",
    "    list = input(\">  \")\n",
    "    if list == 'quit':\n",
    "        break\n",
    "    todo_list.append(list)\n",
    "\n",
    "\n",
    "print(\"\\nHere is your all day schedule\")\n",
    "for todo in todo_list:\n",
    "    print(todo.title())"
   ]
  },
  {
   "cell_type": "code",
   "execution_count": 4,
   "metadata": {},
   "outputs": [
    {
     "name": "stdout",
     "output_type": "stream",
     "text": [
      "\n",
      "Enter the name of the city you want to visit? \n",
      "Enter 'quit' to close the program: bakook\n",
      "I will love to go to Bakook...\n",
      "\n",
      "Enter the name of the city you want to visit? \n",
      "Enter 'quit' to close the program: dubai\n",
      "I will love to go to Dubai...\n",
      "\n",
      "Enter the name of the city you want to visit? \n",
      "Enter 'quit' to close the program: quit\n"
     ]
    }
   ],
   "source": [
    "while True:\n",
    "    city = input(\"\\nEnter the name of the city you want to visit? \\nEnter 'quit' to close the program: \" ).lower()\n",
    "    if city == 'quit':\n",
    "        break\n",
    "    else:\n",
    "        print(\"I will love to go to \" + city.title() + '...' )"
   ]
  },
  {
   "cell_type": "code",
   "execution_count": 1,
   "metadata": {},
   "outputs": [
    {
     "name": "stdout",
     "output_type": "stream",
     "text": [
      "Enter a name of the city , or press \"q\" to terminate the program: karachi\n",
      "It's one of yhe cleanest city.\n",
      "Enter a name of the city , or press \"q\" to terminate the program: grgtg\n",
      "Enter a name of the city , or press \"q\" to terminate the program: gwegtweg\n",
      "Enter a name of the city , or press \"q\" to terminate the program: q\n",
      "It's not a cleanest city\n"
     ]
    }
   ],
   "source": [
    "CleanCity = ['karachi' , 'Santa Fe' , 'Tucson' , 'Great Falls']\n",
    "user_input = \"\"\n",
    "while user_input != 'q':\n",
    "    user_input = input('Enter a name of the city , or press \"q\" to terminate the program: ')\n",
    "    if user_input != \"q\":\n",
    "        for CleanCitys in CleanCity:\n",
    "            if user_input == CleanCitys:\n",
    "                print(\"It's one of yhe cleanest city.\")\n",
    "                break\n",
    "    else:\n",
    "        print(\"It's not a cleanest city\")\n",
    "        break"
   ]
  },
  {
   "cell_type": "code",
   "execution_count": 3,
   "metadata": {},
   "outputs": [
    {
     "name": "stdout",
     "output_type": "stream",
     "text": [
      "\n",
      "Please Enetr your city name :\n",
      "Enter 'quit' to terminate the program....sfef\n",
      "This city is not on the list.\n",
      "Enter 'quit' to close the program..\n",
      "\n",
      "Please Enetr your city name :\n",
      "Enter 'quit' to terminate the program....lahore\n",
      "'Lahore' it is one of the cleanist city..\n",
      " Enter 'quit' to close the program.\n",
      "\n",
      "Please Enetr your city name :\n",
      "Enter 'quit' to terminate the program....quit\n"
     ]
    }
   ],
   "source": [
    "cities = ['Karachi' , 'Lahore' , 'Quetta' , 'California' , 'Great Falls' , 'London' , 'Humberg']\n",
    "city = ''\n",
    "while city != 'Quit':\n",
    "    \n",
    "    city = input(\"\\nPlease Enetr your city name :\\nEnter 'quit' to terminate the program....\").title()\n",
    "    \n",
    "    if city != 'Quit':\n",
    "        if city in cities:\n",
    "            print(\"'\" + city + \"' it is one of the cleanist city..\\n Enter 'quit' to close the program.\")\n",
    "            \n",
    "        else:\n",
    "            print(\"This city is not on the list.\\nEnter 'quit' to close the program..\")\n",
    "                \n",
    "            \n",
    "    else:\n",
    "        break\n",
    "                \n",
    "        \n",
    "    "
   ]
  },
  {
   "cell_type": "code",
   "execution_count": 4,
   "metadata": {},
   "outputs": [
    {
     "name": "stdout",
     "output_type": "stream",
     "text": [
      "1\n",
      "3\n",
      "5\n",
      "7\n",
      "9\n"
     ]
    }
   ],
   "source": [
    "current_number= 0\n",
    "while current_number<10:\n",
    "    current_number +=1\n",
    "    if current_number%2==0:\n",
    "        continue\n",
    "    print(current_number)"
   ]
  },
  {
   "cell_type": "code",
   "execution_count": 2,
   "metadata": {},
   "outputs": [
    {
     "name": "stdout",
     "output_type": "stream",
     "text": [
      "Enter 'quit' to close the program\n",
      "\n",
      "Enter which flavour you want to eat? swfef\n",
      "The flovour of your pizza is SWFEF.\n",
      "\n",
      "Enter the size of your pizza? 12\n",
      "The size of your pizza is 12.\n",
      "\n",
      "Enter your tooping you want to add on your pizza? f\n",
      "Enter your tooping you want to add on your pizza? g\n",
      "Enter your tooping you want to add on your pizza? quit\n",
      "\n",
      "Here is all your toopings: \n",
      "You have added F.\n",
      "You have added G.\n",
      "\n",
      "Do you want to order more pizza..\n",
      "What do you want to do now? yes\n",
      "Enter 'quit' to close the program\n",
      "\n",
      "Enter which flavour you want to eat? quit\n"
     ]
    }
   ],
   "source": [
    "y = []\n",
    "while True:\n",
    "    print(\"Enter 'quit' to close the program\")\n",
    "    \n",
    "    flavour = input(\"\\nEnter which flavour you want to eat? \").upper()\n",
    "    if flavour == 'QUIT':\n",
    "        break\n",
    "    else:\n",
    "        print(\"The flovour of your pizza is \" + flavour + \".\")\n",
    "        \n",
    "        \n",
    "        \n",
    "    size = str(input(\"\\nEnter the size of your pizza? \")).upper()\n",
    "    if size == 'QUIT':\n",
    "        break\n",
    "    else:\n",
    "        print(\"The size of your pizza is \" + str(size) + \".\\n\")\n",
    "        \n",
    "        \n",
    "    tooping = ''\n",
    "    while tooping != 'QUIT':\n",
    "        tooping = input(\"Enter your tooping you want to add on your pizza? \").upper()\n",
    "        if tooping == 'QUIT':\n",
    "            break \n",
    "        else:\n",
    "            y.append(tooping)\n",
    "        \n",
    "        \n",
    "    print(\"\\nHere is all your toopings: \")\n",
    "    for toopings in y:\n",
    "        print(\"You have added \" + toopings + '.')\n",
    "        \n",
    "        \n",
    "    print(\"\\nDo you want to order more pizza..\")\n",
    "    order = input(\"What do you want to do now? \").upper()\n",
    "    \n",
    "    if order == 'YES':\n",
    "        continue\n",
    "\n",
    "    else:\n",
    "        break\n",
    "        \n",
    "    \n",
    "        \n",
    "        \n",
    "            "
   ]
  },
  {
   "cell_type": "code",
   "execution_count": null,
   "metadata": {},
   "outputs": [],
   "source": []
  }
 ],
 "metadata": {
  "kernelspec": {
   "display_name": "Python 3",
   "language": "python",
   "name": "python3"
  },
  "language_info": {
   "codemirror_mode": {
    "name": "ipython",
    "version": 3
   },
   "file_extension": ".py",
   "mimetype": "text/x-python",
   "name": "python",
   "nbconvert_exporter": "python",
   "pygments_lexer": "ipython3",
   "version": "3.7.4"
  }
 },
 "nbformat": 4,
 "nbformat_minor": 2
}
