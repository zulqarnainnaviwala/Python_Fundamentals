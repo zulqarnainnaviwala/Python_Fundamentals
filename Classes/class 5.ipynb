{
 "cells": [
  {
   "cell_type": "raw",
   "metadata": {},
   "source": [
    "Meaning              Math Symbol\t   Python Symbols\n",
    "Less than\t              <\t                 <\n",
    "Greater than\t          >\t                 >\n",
    "Less than or equal\t      ≤  \t             <=\n",
    "Greater than or equal\t  ≥\t                 >=\n",
    "Equals\t                  =\t                 ==\n",
    "Not equal\t              ≠\t                 !="
   ]
  },
  {
   "cell_type": "code",
   "execution_count": null,
   "metadata": {},
   "outputs": [],
   "source": [
    "var1 = 100\n",
    "if var1:\n",
    "    print (\"1 - Got a true expression value\")\n",
    "    print (var1)\n",
    "else:\n",
    "    print (\"1 - Got a false expression value\")\n",
    "    print (var1)\n"
   ]
  },
  {
   "cell_type": "code",
   "execution_count": null,
   "metadata": {},
   "outputs": [],
   "source": [
    "name = input(\"Enter your name : \").upper()\n",
    "if name == 'SHAHZAD':\n",
    "    print('Your name is ' + name\n",
    "else:\n",
    "    print(\"NO\")"
   ]
  },
  {
   "cell_type": "code",
   "execution_count": null,
   "metadata": {},
   "outputs": [],
   "source": [
    "weight = float(input(\"How many pounds does your suitcase weigh? \"))\n",
    "if weight > 50:\n",
    "    print(\"There is a $25 charge for luggage that heavy.\")\n",
    "    \n",
    "print(\"Thank you for your business.\")"
   ]
  },
  {
   "cell_type": "code",
   "execution_count": null,
   "metadata": {},
   "outputs": [],
   "source": [
    "temperature = float(input('What is the temperature? '))\n",
    "if temperature >= 70:\n",
    "    print('Wear shorts.')\n",
    "else:\n",
    "    print('Wear long pants.')\n",
    "    \n",
    "print('Get some exercise outside.')"
   ]
  },
  {
   "cell_type": "code",
   "execution_count": 23,
   "metadata": {},
   "outputs": [
    {
     "name": "stdout",
     "output_type": "stream",
     "text": [
      "Enter yours marks out of 100 :56\n",
      "Grade D\n"
     ]
    }
   ],
   "source": [
    "x = float(input(\"Enter yours marks out of 100 :\"))\n",
    "if x >= 90:\n",
    "    print(\"Grade A*\")\n",
    "elif x >= 80:\n",
    "    print('Grade A')\n",
    "elif x >= 70:\n",
    "    print(\"Grade B\")\n",
    "elif x >= 60:\n",
    "    print('Grade C')\n",
    "elif x >= 50:\n",
    "    print('Grade D')\n",
    "else:\n",
    "    print('Sorry! You are fail.')"
   ]
  },
  {
   "cell_type": "code",
   "execution_count": 26,
   "metadata": {},
   "outputs": [
    {
     "name": "stdout",
     "output_type": "stream",
     "text": [
      "Enter your English marks: 76\n",
      "Enter your Maths marks: 78\n",
      "Enter your Urdu marks: 76\n",
      "Enter your Science marks: 56\n",
      "Enter your Programming marks: 65\n",
      "\n",
      "**YOUR TOTAL MARKS ARE 351.0 out of 500***\n",
      "\n",
      "Your total marks are: 351.0.\n",
      "Your percentage is 70.2%\n",
      "Your grade is A+.\n"
     ]
    }
   ],
   "source": [
    "English = float(input(\"Enter your English marks: \"))\n",
    "Maths = float(input(\"Enter your Maths marks: \"))\n",
    "Urdu = float(input(\"Enter your Urdu marks: \"))\n",
    "Science = float(input(\"Enter your Science marks: \"))\n",
    "Programming = float(input(\"Enter your Programming marks: \"))\n",
    "\n",
    "total = English + Urdu + Maths + Programming + Science\n",
    "print(\"\\n**YOUR TOTAL MARKS ARE \" + str(total)+ \" out of 500***\")\n",
    "\n",
    "percentage = total / 500 * 100\n",
    "roundOff = round(percentage,2)\n",
    "\n",
    "if percentage >= 90 or percentage <= 100:\n",
    "    grade= \"A+\"\n",
    "    \n",
    "    \n",
    "elif percentage >= 80 or percentage <= 90:\n",
    "    grade = \"A\"\n",
    "    \n",
    "    \n",
    "elif percentage >= 80 or percentage <= 70:\n",
    "    grade = \"B\"\n",
    "    \n",
    "    \n",
    "elif percentage >= 70 or percentage <= 60:\n",
    "    grade = \"C\"\n",
    "    \n",
    "elif percentage >= 60 or percentage <= 50:\n",
    "    grade = \"D\"\n",
    "    \n",
    "    \n",
    "else:\n",
    "    \n",
    "    print(\"Sorry! You can't promote to another class.\")\n",
    "    \n",
    "\n",
    "    \n",
    "print(\"\\nYour total marks are: \" + str(total) + \".\\nYour percentage is \" + str(roundOff) + \"%\\nYour grade is \" + str(grade) +\".\")\n",
    "\n",
    "\n",
    "\n",
    "\n",
    "\n"
   ]
  },
  {
   "cell_type": "code",
   "execution_count": 22,
   "metadata": {},
   "outputs": [
    {
     "name": "stdout",
     "output_type": "stream",
     "text": [
      "245.531\n",
      "245.5\n"
     ]
    }
   ],
   "source": [
    "\"\"\"a = 123.44567\n",
    "print(\"%.2f\" % round(a,2))\"\"\"\n",
    "\n",
    "\n",
    "a = 34.001\n",
    "b = 56.45\n",
    "c = 78.21\n",
    "d = 76.87\n",
    "total = a+b+c+d\n",
    "print(total)\n",
    "print(round(total , 1))"
   ]
  },
  {
   "cell_type": "code",
   "execution_count": 10,
   "metadata": {},
   "outputs": [
    {
     "name": "stdout",
     "output_type": "stream",
     "text": [
      "Ask from your wife.\n",
      "Is she allow you to go stadium? [Y/N] y\n",
      "Do you have tickets: [Y/N] y\n",
      "Enter your age: 76\n",
      "\n",
      "You are allow for the match\n"
     ]
    }
   ],
   "source": [
    "ijazat = input(\"Ask from your wife.\\nIs she allow you to go stadium? [Y/N] \").upper()\n",
    "tickets = input(\"Do you have tickets: [Y/N] \").upper()\n",
    "age = int(input(\"Enter your age: \"))\n",
    "\n",
    "if age >= 18 and ijazat == \"Y\" and tickets == \"Y\":\n",
    "    print(\"\\nYou are allow for the match\")\n",
    "    \n",
    "else:\n",
    "    print(\"\\nGet loss from here...\\nGo to home and watch TV..\")"
   ]
  },
  {
   "cell_type": "code",
   "execution_count": 23,
   "metadata": {},
   "outputs": [
    {
     "name": "stdout",
     "output_type": "stream",
     "text": [
      "\t**CASTING VOTE**\n",
      "Enter your age: 5\n",
      "You are under age.\n",
      "You will be allowed after 13 years.\n"
     ]
    }
   ],
   "source": [
    "print(\"\\t**CASTING VOTE**\")\n",
    "age = int(input(\"Enter your age: \"))\n",
    "remaingAge = 18 - age\n",
    "if age >= 18:\n",
    "    cnic = input(\"Do you have your ID card with you right now? [y/n]\")\n",
    "    city = input(\"Please Enter your city name here: \")\n",
    "    if cnic == 'y' or city != 'lahore':\n",
    "        print(\"\\nGo and cast your vote.\\nHope for your positive response.\")\n",
    "    else: \n",
    "        print(\"Sorry! you are not allowed to cast your vote here.\")\n",
    "else:\n",
    "    print(\"You are under age.\")\n",
    "    print(\"You will be allowed after \" + str(remaingAge) + \" years.\")\n"
   ]
  },
  {
   "cell_type": "code",
   "execution_count": 28,
   "metadata": {},
   "outputs": [
    {
     "name": "stdout",
     "output_type": "stream",
     "text": [
      "Enter your gender: male\n",
      "Enter your age : 23\n",
      "Do you have your cnic: [y/n]n\n",
      "Enter your city name: lahore\n",
      "\n",
      "We are sorry.You are not allowed.\n"
     ]
    }
   ],
   "source": [
    "gender = input(\"Enter your gender: \")\n",
    "age = int(input(\"Enter your age : \"))\n",
    "cnic = input(\"Do you have your cnic: [y/n] \")\n",
    "city = input(\"Enter your city name: \")\n",
    "\n",
    "if gender == ('male' or age >= 18) and (cnic == 'y' or city == 'karachi'):\n",
    "    print(\"\\nYou can go now!! \")\n",
    "else:\n",
    "    print(\"\\nWe are sorry.You are not allowed.\")"
   ]
  },
  {
   "cell_type": "code",
   "execution_count": null,
   "metadata": {},
   "outputs": [],
   "source": []
  },
  {
   "cell_type": "code",
   "execution_count": null,
   "metadata": {},
   "outputs": [],
   "source": []
  },
  {
   "cell_type": "code",
   "execution_count": null,
   "metadata": {},
   "outputs": [],
   "source": []
  },
  {
   "cell_type": "code",
   "execution_count": null,
   "metadata": {},
   "outputs": [],
   "source": []
  },
  {
   "cell_type": "code",
   "execution_count": null,
   "metadata": {},
   "outputs": [],
   "source": []
  }
 ],
 "metadata": {
  "kernelspec": {
   "display_name": "Python 3",
   "language": "python",
   "name": "python3"
  },
  "language_info": {
   "codemirror_mode": {
    "name": "ipython",
    "version": 3
   },
   "file_extension": ".py",
   "mimetype": "text/x-python",
   "name": "python",
   "nbconvert_exporter": "python",
   "pygments_lexer": "ipython3",
   "version": "3.6.4"
  }
 },
 "nbformat": 4,
 "nbformat_minor": 2
}
