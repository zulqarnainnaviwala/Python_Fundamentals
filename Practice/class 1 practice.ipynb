{
 "cells": [
  {
   "cell_type": "markdown",
   "metadata": {},
   "source": [
    "# Print"
   ]
  },
  {
   "cell_type": "code",
   "execution_count": 16,
   "metadata": {},
   "outputs": [
    {
     "name": "stdout",
     "output_type": "stream",
     "text": [
      "hello\n",
      "i am a print statement\n",
      "hello world\n",
      "hello python\n",
      "10\n",
      "10\n",
      "10.0\n",
      "10.0\n"
     ]
    }
   ],
   "source": [
    "print(\"hello\")\n",
    "print(\"i am a print statement\")\n",
    "print(\"hello world\")\n",
    "print(\"hello python\")\n",
    "\n",
    "print(10)\n",
    "print(\"10\")\n",
    "print(10.0)\n",
    "print(\"10.0\")"
   ]
  },
  {
   "cell_type": "markdown",
   "metadata": {},
   "source": [
    "# Variables"
   ]
  },
  {
   "cell_type": "code",
   "execution_count": 22,
   "metadata": {},
   "outputs": [
    {
     "name": "stdout",
     "output_type": "stream",
     "text": [
      "anything\n",
      "12\n",
      "Muhammad Zulqarnain\n",
      "Muhammad Shahzad\n",
      "Welcome to the world of python\n",
      "How are you\n"
     ]
    }
   ],
   "source": [
    "\n",
    "container = \"anything\"  #initiallized a variable OR declared a variable with value ANYTHING\n",
    "print(container)\n",
    "\n",
    "number=12 #variable must have a meaningful name always\n",
    "print(number)\n",
    "\n",
    "firstName=\"Muhammad\" #initialized with \n",
    "lastName=\"Zulqarnain\"\n",
    "print(firstName,lastName)\n",
    "\n",
    "firstName=\"Muhammad\" #override firstName with same value\n",
    "lastName=\"Shahzad\" #overrided lastName with different value\n",
    "print(firstName,lastName)\n",
    "\n",
    "message = \"Welcome to the world of python\"\n",
    "print(message)\n",
    "messageNo2=\"How are you?\"\n",
    "print(messageNo2)"
   ]
  },
  {
   "cell_type": "markdown",
   "metadata": {},
   "source": [
    "# Casing "
   ]
  },
  {
   "cell_type": "code",
   "execution_count": 19,
   "metadata": {},
   "outputs": [
    {
     "name": "stdout",
     "output_type": "stream",
     "text": [
      "CAt\n",
      "Cat\n",
      "cat\n",
      "CAT\n"
     ]
    }
   ],
   "source": [
    "animal=\"CAt\"\n",
    "print(animal)  #print as it is \n",
    "print(animal.title()) #print only with first CHARACTER CAPITAL whatever is defined\n",
    "print(animal.lower()) # print ALL CAPS small(in lowercase) whatever is defined \n",
    "print(animal.upper()) # print ALL CAPS large(in uppercase) whatever is defined\n"
   ]
  },
  {
   "cell_type": "markdown",
   "metadata": {},
   "source": [
    "# Data Types & type()"
   ]
  },
  {
   "cell_type": "code",
   "execution_count": 26,
   "metadata": {},
   "outputs": [
    {
     "name": "stdout",
     "output_type": "stream",
     "text": [
      "12\n",
      "<class 'int'>\n",
      "1.2\n",
      "<class 'float'>\n",
      "Hello User\n",
      "<class 'str'>\n"
     ]
    }
   ],
   "source": [
    "number=12 #number type variable \n",
    "print(number)\n",
    "print(type(number))\n",
    "\n",
    "decimalNumber=1.2 #number(containing decimal value) type variable \n",
    "print(decimalNumber)\n",
    "print(type(decimalNumber))\n",
    "\n",
    "greeting= \"Hello User\" # string(something defined with alphabetic characters or others) type \n",
    "print(greeting)\n",
    "print(type(greeting))\n"
   ]
  },
  {
   "cell_type": "markdown",
   "metadata": {},
   "source": [
    "# Concatenate "
   ]
  },
  {
   "cell_type": "code",
   "execution_count": 36,
   "metadata": {},
   "outputs": [
    {
     "name": "stdout",
     "output_type": "stream",
     "text": [
      "HamzakHAN\n",
      "Hamza kHAN\n",
      "KhurramAdvani\n",
      "Khurram Advani\n",
      "3\n",
      "12\n"
     ]
    }
   ],
   "source": [
    "fName = \"Hamza\"\n",
    "lNaME = \"kHAN\"\n",
    "print(fName + lNaME)  #will place things in given sequence.\n",
    "print(fName + \" \" + lNaME) #everything can concat with other things (e.g here var then str and end var)\n",
    "\n",
    "\n",
    "firstN = \"Khurram\"\n",
    "lastN = \"Advani\"\n",
    "print(firstN + lastN)\n",
    "print(firstN + \" \" + lastN)\n",
    "\n",
    "num1 = 1\n",
    "num2 = 2\n",
    "print(num1+num2)  # will actually not concatenate ,by default ; it will do maths (special case of only pasing number type variables)\n",
    "num1 = \"1\"\n",
    "num2 = \"2\"\n",
    "print(num1+num2) #it will concatenate both string\n",
    "# num1 = \"1\"\n",
    "# num2 = 2\n",
    "# print(num1+num2) #will generate error (because we can't concatenate  different tyoes on varibles)\n",
    "# num1 = 1\n",
    "# um2 = \"2\"\n",
    "# print(num1+num2)  # will also generate error\n",
    "\n",
    "\n",
    "\n"
   ]
  },
  {
   "cell_type": "markdown",
   "metadata": {},
   "source": [
    "# Math operations"
   ]
  },
  {
   "cell_type": "code",
   "execution_count": 6,
   "metadata": {},
   "outputs": [
    {
     "name": "stdout",
     "output_type": "stream",
     "text": [
      "16.0\n",
      "10.0\n",
      "4.0\n",
      "19\n",
      "20\n"
     ]
    }
   ],
   "source": [
    "floatNum = 12.0\n",
    "floatNum2 = 4.0\n",
    "\n",
    "floatNum3 = floatNum + floatNum2 \n",
    "print(floatNum3)\n",
    "floatNum4 = floatNum + floatNum2 - 6 \n",
    "print(floatNum4) \n",
    "floatNum4 = floatNum2 % floatNum #it will gives or returns the value of remainder \n",
    "print(floatNum4)\n",
    "\n",
    "age=18 #and then after every year you need to increase one\n",
    "age = age + 1 \n",
    "print(age)\n",
    "# OR\n",
    "age += 1\n",
    "print(age)"
   ]
  }
 ],
 "metadata": {
  "kernelspec": {
   "display_name": "Python 3",
   "language": "python",
   "name": "python3"
  },
  "language_info": {
   "codemirror_mode": {
    "name": "ipython",
    "version": 3
   },
   "file_extension": ".py",
   "mimetype": "text/x-python",
   "name": "python",
   "nbconvert_exporter": "python",
   "pygments_lexer": "ipython3",
   "version": "3.7.1"
  }
 },
 "nbformat": 4,
 "nbformat_minor": 2
}
