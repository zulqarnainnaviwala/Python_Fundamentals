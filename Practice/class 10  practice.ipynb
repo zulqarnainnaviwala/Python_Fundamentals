{
 "cells": [
  {
   "cell_type": "markdown",
   "metadata": {},
   "source": [
    "# Functions"
   ]
  },
  {
   "cell_type": "code",
   "execution_count": 6,
   "metadata": {},
   "outputs": [
    {
     "name": "stdout",
     "output_type": "stream",
     "text": [
      "Have a Good Day !\n",
      "Hello, Areeba!\n",
      "Hello, Haroon!\n",
      "Hello, Moosa!\n"
     ]
    }
   ],
   "source": [
    "def greeting():  #a sipmlest functiom\n",
    "    print(\"Have a Good Day !\")\n",
    "greeting()\n",
    "\n",
    "def greet_users(names):  # fumction with single parameter  \n",
    "    for name in names:       \n",
    "        msg = \"Hello, \" + name.title() + \"!\"        \n",
    "        print(msg)\n",
    "usernames = ['ArEeba', 'Haroon', 'Moosa'] \n",
    "greet_users(usernames) #username will be caught as names in greet_users"
   ]
  },
  {
   "cell_type": "code",
   "execution_count": 7,
   "metadata": {},
   "outputs": [
    {
     "name": "stdout",
     "output_type": "stream",
     "text": [
      "Hello Zulqarnain\n",
      "Hello Moosa\n"
     ]
    }
   ],
   "source": [
    "def user(name='Moosa'): #SETTING A BY DEFAULT VALUE\n",
    "    print(\"Hello \" + str(name))\n",
    "user('Zulqarnain')\n",
    "user() "
   ]
  },
  {
   "cell_type": "code",
   "execution_count": 12,
   "metadata": {},
   "outputs": [
    {
     "name": "stdout",
     "output_type": "stream",
     "text": [
      "Hamster is the type of my animal.\n",
      "The name of my Hamster is  TOMMY .\n",
      "Dog is the type of my animal.\n",
      "The name of my Dog is  HARRY .\n"
     ]
    }
   ],
   "source": [
    "def animal(type , name):\n",
    "    \n",
    "    print(type.title() , 'is the type of my animal.')\n",
    "    print('The name of my ' + type.title() +' is ' , name.upper() , '.')\n",
    "    \n",
    "animal('hamster' , 'tommy') #parameter must be in sequence\n",
    "animal( name='harry',type='dog') #if not in sequence then define by its name"
   ]
  },
  {
   "cell_type": "code",
   "execution_count": 16,
   "metadata": {},
   "outputs": [
    {
     "name": "stdout",
     "output_type": "stream",
     "text": [
      "My name is  zee .\n",
      "I have an lambo .\n",
      "I have an  iphone .\n",
      "My name is  rizwan .\n",
      "I have an mehran .\n",
      "I have an  nokia .\n"
     ]
    }
   ],
   "source": [
    "# def myself(car  , name = 'zee' , mobile):\n",
    "#     print('I have an' , car , '.')\n",
    "#     print('I have an ' , mobile, '.')\n",
    "# myself('audi','h')    \n",
    "\n",
    "#default parameter must be place in last\n",
    "def myself(car , mobile  ,   name = 'zee'):\n",
    "    print('My name is ',name,'.')\n",
    "    print('I have an' , car , '.')\n",
    "    print('I have an ' , mobile, '.')\n",
    "myself('lambo','iphone')\n",
    "myself('mehran','nokia','rizwan')    "
   ]
  },
  {
   "cell_type": "code",
   "execution_count": 20,
   "metadata": {},
   "outputs": [
    {
     "name": "stdout",
     "output_type": "stream",
     "text": [
      "Mohd Tabish\n",
      "Mohd Hamza Chippa\n"
     ]
    }
   ],
   "source": [
    "#function returning value globally\n",
    "def getName(firstname , lastname  , middlename = ''):\n",
    "    if middlename:\n",
    "        fullname = firstname + ' ' + middlename + ' ' + lastname\n",
    "    else:\n",
    "        fullname = firstname + ' ' + lastname\n",
    "    return fullname.title()\n",
    "\n",
    "p1 = getName('Mohd' ,'Tabish')\n",
    "print(p1)\n",
    "p2 = getName('Mohd', 'Chippa' , 'hamza')\n",
    "print(p2)  "
   ]
  },
  {
   "cell_type": "code",
   "execution_count": 40,
   "metadata": {},
   "outputs": [
    {
     "name": "stdout",
     "output_type": "stream",
     "text": [
      "The name of wife is  Zainab  and the name of husband is Shakoor .\n",
      "Shakoor\n",
      "Zainab\n",
      "Shakoor Zainab\n"
     ]
    },
    {
     "data": {
      "text/plain": [
       "('Shakoor', 'Zainab')"
      ]
     },
     "execution_count": 40,
     "metadata": {},
     "output_type": "execute_result"
    }
   ],
   "source": [
    "def couple(husName,wifeName):\n",
    "    print('The name of wife is ' , wifeName.title() , ' and the name of husband is' , husName.title() , '.')\n",
    "    return husName,wifeName\n",
    "\n",
    "a,b=couple( wifeName = 'Zainab' , husName =  'Shakoor')    \n",
    "print(a)\n",
    "print(b)\n",
    "print(a,b)\n",
    "a,b"
   ]
  },
  {
   "cell_type": "code",
   "execution_count": 58,
   "metadata": {},
   "outputs": [
    {
     "name": "stdout",
     "output_type": "stream",
     "text": [
      "small pep {'drink1': 'pepsi', 'drinks2': 'cola'}\n",
      "large green peppers {'drink': 'wisky'}\n"
     ]
    }
   ],
   "source": [
    "def make_pizza(size , *toppings  , **extra):    \n",
    "    print( size , toppings[0], extra )\n",
    "    \n",
    "make_pizza('small','pep','sd','sad', drink1='pepsi' , drinks2 = 'cola' ) \n",
    "make_pizza('large', 'green peppers', 'extra cheese' , drink = 'wisky')\n",
    "# make_pizza(**extra=drink = 'wisky',size='large',*topping 'green peppers', 'extra cheese' )\n"
   ]
  },
  {
   "cell_type": "code",
   "execution_count": null,
   "metadata": {},
   "outputs": [],
   "source": [
    "def a(x, y):\n",
    "    print (x, y)\n",
    "\n",
    "def b(other, function, *args, **kwargs):\n",
    "    function(*args, **kwargs)\n",
    "    print (other)\n",
    "    \n",
    "b('python', a , 'hello', 'friends')"
   ]
  }
 ],
 "metadata": {
  "kernelspec": {
   "display_name": "Python 3",
   "language": "python",
   "name": "python3"
  },
  "language_info": {
   "codemirror_mode": {
    "name": "ipython",
    "version": 3
   },
   "file_extension": ".py",
   "mimetype": "text/x-python",
   "name": "python",
   "nbconvert_exporter": "python",
   "pygments_lexer": "ipython3",
   "version": "3.7.1"
  }
 },
 "nbformat": 4,
 "nbformat_minor": 2
}
