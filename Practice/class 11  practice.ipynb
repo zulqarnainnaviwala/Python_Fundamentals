{
 "cells": [
  {
   "cell_type": "code",
   "execution_count": 1,
   "metadata": {},
   "outputs": [],
   "source": [
    "def full_name():\n",
    "    print(\"Muhammad Shahzad Ahsan\")\n",
    "    \n",
    "    "
   ]
  },
  {
   "cell_type": "code",
   "execution_count": 2,
   "metadata": {},
   "outputs": [
    {
     "name": "stdout",
     "output_type": "stream",
     "text": [
      "Muhammad Shahzad Ahsan\n"
     ]
    }
   ],
   "source": [
    "full_name()"
   ]
  },
  {
   "cell_type": "code",
   "execution_count": 3,
   "metadata": {},
   "outputs": [
    {
     "name": "stdout",
     "output_type": "stream",
     "text": [
      "Muhammad Shahzad Ahsan\n"
     ]
    }
   ],
   "source": [
    "full_name()"
   ]
  },
  {
   "cell_type": "code",
   "execution_count": 4,
   "metadata": {},
   "outputs": [
    {
     "name": "stdout",
     "output_type": "stream",
     "text": [
      "Muhammad Shahzad Ahsan\n"
     ]
    }
   ],
   "source": [
    "full_name()"
   ]
  },
  {
   "cell_type": "code",
   "execution_count": 5,
   "metadata": {},
   "outputs": [
    {
     "name": "stdout",
     "output_type": "stream",
     "text": [
      "Muhammad Shahzad Ahsan\n"
     ]
    }
   ],
   "source": [
    "full_name()"
   ]
  },
  {
   "cell_type": "code",
   "execution_count": 6,
   "metadata": {},
   "outputs": [],
   "source": [
    "def full_name1():\n",
    "    print(\"Muhammad Hamza Khan\")\n",
    "    print(\"Muhammad Shahzad Ahsan\")"
   ]
  },
  {
   "cell_type": "code",
   "execution_count": 7,
   "metadata": {},
   "outputs": [
    {
     "name": "stdout",
     "output_type": "stream",
     "text": [
      "Muhammad Hamza Khan\n",
      "Muhammad Shahzad Ahsan\n"
     ]
    }
   ],
   "source": [
    "full_name1()"
   ]
  },
  {
   "cell_type": "code",
   "execution_count": 8,
   "metadata": {},
   "outputs": [
    {
     "name": "stdout",
     "output_type": "stream",
     "text": [
      "Muhammad Hamza Khan\n",
      "Muhammad Shahzad Ahsan\n"
     ]
    }
   ],
   "source": [
    "full_name1()"
   ]
  },
  {
   "cell_type": "code",
   "execution_count": 9,
   "metadata": {},
   "outputs": [],
   "source": [
    "def student(s):\n",
    "    print(s)"
   ]
  },
  {
   "cell_type": "code",
   "execution_count": 10,
   "metadata": {},
   "outputs": [
    {
     "name": "stdout",
     "output_type": "stream",
     "text": [
      "anas\n"
     ]
    }
   ],
   "source": [
    "student('anas')"
   ]
  },
  {
   "cell_type": "code",
   "execution_count": 11,
   "metadata": {},
   "outputs": [
    {
     "name": "stdout",
     "output_type": "stream",
     "text": [
      "sana\n"
     ]
    }
   ],
   "source": [
    "student('sana')"
   ]
  },
  {
   "cell_type": "code",
   "execution_count": 12,
   "metadata": {},
   "outputs": [
    {
     "name": "stdout",
     "output_type": "stream",
     "text": [
      "123\n"
     ]
    }
   ],
   "source": [
    "student(123)"
   ]
  },
  {
   "cell_type": "code",
   "execution_count": 13,
   "metadata": {},
   "outputs": [
    {
     "name": "stdout",
     "output_type": "stream",
     "text": [
      "123.45\n"
     ]
    }
   ],
   "source": [
    "student(123.45)"
   ]
  },
  {
   "cell_type": "code",
   "execution_count": 14,
   "metadata": {},
   "outputs": [
    {
     "name": "stdout",
     "output_type": "stream",
     "text": [
      "True\n"
     ]
    }
   ],
   "source": [
    "student(True)"
   ]
  },
  {
   "cell_type": "code",
   "execution_count": 15,
   "metadata": {},
   "outputs": [
    {
     "name": "stdout",
     "output_type": "stream",
     "text": [
      "['ahsan', 'umer']\n"
     ]
    }
   ],
   "source": [
    "student(['ahsan' , 'umer'])"
   ]
  },
  {
   "cell_type": "code",
   "execution_count": 17,
   "metadata": {},
   "outputs": [],
   "source": [
    "def cal(a,b,c):\n",
    "    if c==\"+\":\n",
    "        print(a+b)\n",
    "    elif c==\"-\":\n",
    "        print(a-b)\n",
    "    elif c==\"*\":\n",
    "        print(a*b)\n",
    "    elif c==\"/\":\n",
    "        print(a/b)\n",
    "    else:\n",
    "        print(\"invalid operation\")"
   ]
  },
  {
   "cell_type": "code",
   "execution_count": 18,
   "metadata": {},
   "outputs": [
    {
     "name": "stdout",
     "output_type": "stream",
     "text": [
      "4\n"
     ]
    }
   ],
   "source": [
    "cal(2,2,\"+\")"
   ]
  },
  {
   "cell_type": "code",
   "execution_count": 19,
   "metadata": {},
   "outputs": [],
   "source": [
    "def cal(a,b,c):\n",
    "    if c==\"+\":\n",
    "        return a+b\n",
    "    elif c==\"-\":\n",
    "        return a-b\n",
    "    elif c==\"*\":\n",
    "        return a**b\n",
    "    elif c==\"/\":\n",
    "        return a//b\n",
    "    else:\n",
    "        print(\"invalid operation\")"
   ]
  },
  {
   "cell_type": "code",
   "execution_count": 20,
   "metadata": {},
   "outputs": [
    {
     "name": "stdout",
     "output_type": "stream",
     "text": [
      "Ahsan\n"
     ]
    }
   ],
   "source": [
    "def my_name(f_name):\n",
    "    return f_name\n",
    "\n",
    "\n",
    "\n",
    "\n",
    "name1 = my_name(\"Ahsan\")\n",
    "print(name1)"
   ]
  },
  {
   "cell_type": "code",
   "execution_count": 21,
   "metadata": {},
   "outputs": [
    {
     "name": "stdout",
     "output_type": "stream",
     "text": [
      "123\n"
     ]
    }
   ],
   "source": [
    "num1 = my_name(123)\n",
    "print(num1)"
   ]
  },
  {
   "cell_type": "code",
   "execution_count": 24,
   "metadata": {},
   "outputs": [],
   "source": [
    "def cal(a,b,c):\n",
    "    if c==\"+\":\n",
    "        return a+b\n",
    "    elif c==\"-\":\n",
    "        return a-b\n",
    "    elif c==\"*\":\n",
    "        return a*b\n",
    "    elif c==\"/\":\n",
    "        return a/b\n",
    "    else:\n",
    "        print(\"invalid operation\")"
   ]
  },
  {
   "cell_type": "code",
   "execution_count": 25,
   "metadata": {},
   "outputs": [],
   "source": [
    "x = cal(10 , 2 , '/')\n"
   ]
  },
  {
   "cell_type": "code",
   "execution_count": 26,
   "metadata": {},
   "outputs": [
    {
     "data": {
      "text/plain": [
       "5.0"
      ]
     },
     "execution_count": 26,
     "metadata": {},
     "output_type": "execute_result"
    }
   ],
   "source": [
    "x"
   ]
  },
  {
   "cell_type": "code",
   "execution_count": 28,
   "metadata": {},
   "outputs": [],
   "source": [
    "def family(son_name , father_name):\n",
    "    print(f\"Son name is {son_name}\")\n",
    "    print(f\"Father name is {father_name}\")  "
   ]
  },
  {
   "cell_type": "code",
   "execution_count": 30,
   "metadata": {},
   "outputs": [
    {
     "name": "stdout",
     "output_type": "stream",
     "text": [
      "Son name is Shahzad\n",
      "Father name is Ahsan\n"
     ]
    }
   ],
   "source": [
    "family(father_name='Ahsan' , son_name= \"Shahzad\")"
   ]
  },
  {
   "cell_type": "code",
   "execution_count": 31,
   "metadata": {},
   "outputs": [
    {
     "name": "stdout",
     "output_type": "stream",
     "text": [
      "Son name is Shahzad\n",
      "Father name is Ahsan\n"
     ]
    }
   ],
   "source": [
    "family(son_name= \"Shahzad\",father_name='Ahsan' )"
   ]
  },
  {
   "cell_type": "code",
   "execution_count": 32,
   "metadata": {},
   "outputs": [],
   "source": [
    "def friends(names):\n",
    "    for name in names:\n",
    "        print(f\"hello {name} chai pee loo...\")"
   ]
  },
  {
   "cell_type": "code",
   "execution_count": 33,
   "metadata": {},
   "outputs": [
    {
     "name": "stdout",
     "output_type": "stream",
     "text": [
      "hello umer chai pee loo...\n",
      "hello hamza chai pee loo...\n",
      "hello ali chai pee loo...\n",
      "hello azhar chai pee loo...\n"
     ]
    }
   ],
   "source": [
    "friends(['umer' , 'hamza' , 'ali' , 'azhar'])"
   ]
  },
  {
   "cell_type": "code",
   "execution_count": 34,
   "metadata": {},
   "outputs": [],
   "source": [
    "def my_full_name(f_name , m_name , l_name):\n",
    "    full_name = f_name + m_name + l_name\n",
    "    print(full_name)"
   ]
  },
  {
   "cell_type": "code",
   "execution_count": 36,
   "metadata": {},
   "outputs": [
    {
     "name": "stdout",
     "output_type": "stream",
     "text": [
      "Muhammad Hamza Khan\n"
     ]
    }
   ],
   "source": [
    "my_full_name('Muhammad ' , 'Hamza' , ' Khan')"
   ]
  },
  {
   "cell_type": "code",
   "execution_count": 37,
   "metadata": {},
   "outputs": [
    {
     "ename": "TypeError",
     "evalue": "my_full_name() missing 1 required positional argument: 'l_name'",
     "output_type": "error",
     "traceback": [
      "\u001b[1;31m-------------------------------------------------------------------------\u001b[0m",
      "\u001b[1;31mTypeError\u001b[0m                               Traceback (most recent call last)",
      "\u001b[1;32m<ipython-input-37-2efc26354544>\u001b[0m in \u001b[0;36m<module>\u001b[1;34m\u001b[0m\n\u001b[1;32m----> 1\u001b[1;33m \u001b[0mmy_full_name\u001b[0m\u001b[1;33m(\u001b[0m\u001b[1;34m'Abdul '\u001b[0m \u001b[1;33m,\u001b[0m  \u001b[1;34m' Rafay'\u001b[0m\u001b[1;33m)\u001b[0m\u001b[1;33m\u001b[0m\u001b[1;33m\u001b[0m\u001b[0m\n\u001b[0m",
      "\u001b[1;31mTypeError\u001b[0m: my_full_name() missing 1 required positional argument: 'l_name'"
     ]
    }
   ],
   "source": [
    "my_full_name('Abdul ' ,  ' Rafay')"
   ]
  },
  {
   "cell_type": "code",
   "execution_count": 38,
   "metadata": {},
   "outputs": [],
   "source": [
    "def my_full_name(f_name , l_name , m_name = ' ' ):\n",
    "    full_name = f_name + m_name + l_name\n",
    "    print(full_name)"
   ]
  },
  {
   "cell_type": "code",
   "execution_count": 39,
   "metadata": {},
   "outputs": [
    {
     "name": "stdout",
     "output_type": "stream",
     "text": [
      "Abdul Rafay\n"
     ]
    }
   ],
   "source": [
    "my_full_name(\"Abdul\" , 'Rafay')"
   ]
  },
  {
   "cell_type": "code",
   "execution_count": 40,
   "metadata": {},
   "outputs": [
    {
     "ename": "SyntaxError",
     "evalue": "non-default argument follows default argument (<ipython-input-40-6de3a679973c>, line 1)",
     "output_type": "error",
     "traceback": [
      "\u001b[1;36m  File \u001b[1;32m\"<ipython-input-40-6de3a679973c>\"\u001b[1;36m, line \u001b[1;32m1\u001b[0m\n\u001b[1;33m    def my_full_name(f_name , m_name = '' , l_name ):\u001b[0m\n\u001b[1;37m                    ^\u001b[0m\n\u001b[1;31mSyntaxError\u001b[0m\u001b[1;31m:\u001b[0m non-default argument follows default argument\n"
     ]
    }
   ],
   "source": [
    "def my_full_name(f_name , m_name = '' , l_name ):\n",
    "    full_name = f_name + m_name + l_name\n",
    "    print(full_name)"
   ]
  },
  {
   "cell_type": "code",
   "execution_count": 47,
   "metadata": {},
   "outputs": [],
   "source": [
    "def family_name(*names):\n",
    "    print(\"My family members are: \")\n",
    "    for name in names:\n",
    "        print(name)\n",
    "    \n",
    "    "
   ]
  },
  {
   "cell_type": "code",
   "execution_count": 48,
   "metadata": {},
   "outputs": [
    {
     "name": "stdout",
     "output_type": "stream",
     "text": [
      "My family members are: \n",
      "Shahzad\n"
     ]
    }
   ],
   "source": [
    "family_name(\"Shahzad\")\n",
    "\n"
   ]
  },
  {
   "cell_type": "code",
   "execution_count": 49,
   "metadata": {},
   "outputs": [
    {
     "name": "stdout",
     "output_type": "stream",
     "text": [
      "My family members are: \n",
      "Ali\n",
      "Ahmed\n",
      "Umer\n"
     ]
    }
   ],
   "source": [
    "family_name('Ali' , 'Ahmed' , 'Umer')"
   ]
  },
  {
   "cell_type": "code",
   "execution_count": 50,
   "metadata": {},
   "outputs": [],
   "source": [
    "def pizza(*flavor , **toopings):\n",
    "    print(flavor)\n",
    "    print(toopings)"
   ]
  },
  {
   "cell_type": "code",
   "execution_count": 53,
   "metadata": {},
   "outputs": [
    {
     "name": "stdout",
     "output_type": "stream",
     "text": [
      "('Tikka', 'Fajita')\n",
      "{'name': 'Sara', 'age': 20, 'gender': 'female'}\n"
     ]
    }
   ],
   "source": [
    "pizza('Tikka' , 'Fajita' , name= 'Sara' , age = 20 , gender='female')"
   ]
  },
  {
   "cell_type": "code",
   "execution_count": null,
   "metadata": {},
   "outputs": [],
   "source": []
  }
 ],
 "metadata": {
  "kernelspec": {
   "display_name": "Python 3",
   "language": "python",
   "name": "python3"
  },
  "language_info": {
   "codemirror_mode": {
    "name": "ipython",
    "version": 3
   },
   "file_extension": ".py",
   "mimetype": "text/x-python",
   "name": "python",
   "nbconvert_exporter": "python",
   "pygments_lexer": "ipython3",
   "version": "3.7.3"
  }
 },
 "nbformat": 4,
 "nbformat_minor": 2
}
