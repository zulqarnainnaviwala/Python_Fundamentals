{
 "cells": [
  {
   "cell_type": "markdown",
   "metadata": {},
   "source": [
    "# Built-in Functions"
   ]
  },
  {
   "cell_type": "code",
   "execution_count": null,
   "metadata": {},
   "outputs": [],
   "source": [
    "language = '       \"py thon\"    '\n",
    "print(language.lstrip()) #removes spaces from left side of string\n",
    "print(language.rstrip()) #removes spaces from left corner of string\n",
    "print(language.strip()) #removes spaces from both corners of string\n"
   ]
  },
  {
   "cell_type": "markdown",
   "metadata": {},
   "source": [
    "\n",
    "# Wraapping"
   ]
  },
  {
   "cell_type": "code",
   "execution_count": null,
   "metadata": {},
   "outputs": [],
   "source": [
    "#changes data type temporarily to another where it needed to be change. \n",
    "date = 10\n",
    "msg = \"Your birth date is \" + str(date) #converts int into str\n",
    "print(msg)"
   ]
  },
  {
   "cell_type": "markdown",
   "metadata": {},
   "source": [
    "# Lists "
   ]
  },
  {
   "cell_type": "code",
   "execution_count": 103,
   "metadata": {},
   "outputs": [
    {
     "name": "stdout",
     "output_type": "stream",
     "text": [
      "[]\n",
      "[]\n",
      "['trek', 'cannondale', 'redline', 'specialized']\n",
      "<class 'list'>\n",
      "redline\n",
      "<class 'str'>\n",
      "e\n",
      "<class 'str'>\n",
      "l\n",
      "<class 'str'>\n"
     ]
    }
   ],
   "source": [
    "_list = list()#created an object of list #initializer -->declared empty list \n",
    "print(_list)\n",
    "li = [] #declared  or created empty list\n",
    "print(li)\n",
    "\n",
    "\n",
    "bicyclesList = ['trek', 'cannondale', 'redline', 'specialized']\n",
    "print(bicyclesList) #print whole list\n",
    "print(type(bicyclesList))\n",
    "\n",
    "print(bicyclesList[2]) #prints element at index 2 \n",
    "print(type(bicyclesList[2]))\n",
    "\n",
    "# -1,0 pr chlraha bs \n",
    "print(bicyclesList[2][-1]) #prints element at index 2 \n",
    "print(type(bicyclesList[2][-1]))\n",
    "\n",
    "print(bicyclesList[2][4-1]) #prints element at index 2 \n",
    "print(type(bicyclesList[2][4-1]))\n",
    "\n",
    "#print(bicyclesList[10]) #list index out of bound of bound error \n",
    "\n",
    "\n"
   ]
  },
  {
   "cell_type": "code",
   "execution_count": 104,
   "metadata": {},
   "outputs": [
    {
     "name": "stdout",
     "output_type": "stream",
     "text": [
      "['trek', 'cannondale', 'redline', 'specialized']\n"
     ]
    }
   ],
   "source": [
    "bicyclesList[3]='p'\n",
    "bicyclesList[3]='specialized'\n",
    "print(bicyclesList)"
   ]
  },
  {
   "cell_type": "code",
   "execution_count": 105,
   "metadata": {},
   "outputs": [],
   "source": [
    "list1=list('asds@34$')\n",
    "list2=list([123])\n",
    "list3=list(('asd','asd',\"asd\")) \n",
    "list4=list(('asd','asd',\"asd\"),)\n",
    "#list5=list(('asd','asd',\"asd\"),(\"1\"))\n",
    "list6=list([[1,2,3,4],[1,2,3,45,8]])"
   ]
  },
  {
   "cell_type": "code",
   "execution_count": 106,
   "metadata": {},
   "outputs": [
    {
     "name": "stdout",
     "output_type": "stream",
     "text": [
      "['a', 's', 'd', 's', '@', '3', '4', '$']\n",
      "[123]\n",
      "['asd', 'asd', 'asd']\n",
      "[[1, 2, 3, 4], [1, 2, 3, 45, 8]]\n"
     ]
    }
   ],
   "source": [
    "print(list1)\n",
    "print(list2)\n",
    "print(list3)\n",
    "print(list6)"
   ]
  },
  {
   "cell_type": "code",
   "execution_count": 202,
   "metadata": {},
   "outputs": [
    {
     "name": "stdout",
     "output_type": "stream",
     "text": [
      "my fav car is audi\n"
     ]
    }
   ],
   "source": [
    "carList=['honda','toyota','suzuki','audi','lambo']\n",
    "print('my fav car is ' + carList[-2])\n"
   ]
  },
  {
   "cell_type": "code",
   "execution_count": 203,
   "metadata": {},
   "outputs": [
    {
     "name": "stdout",
     "output_type": "stream",
     "text": [
      "[0, 1, 2, 3, 4, 5]\n",
      "[2, 4, 6, 8, 10]\n"
     ]
    }
   ],
   "source": [
    "numbers = list(range(0,6))\n",
    "print(numbers)\n",
    "\n",
    "even_numbers = list(range(2,11,2))\n",
    "print(even_numbers)"
   ]
  },
  {
   "cell_type": "markdown",
   "metadata": {},
   "source": [
    "## Functions on Lists"
   ]
  },
  {
   "cell_type": "code",
   "execution_count": 108,
   "metadata": {},
   "outputs": [
    {
     "name": "stdout",
     "output_type": "stream",
     "text": [
      "['obaid', 'zeeshan', 'shahzad', 'shakoor', 'faisal', 'khurram', 'ali', 'rizwan']\n"
     ]
    }
   ],
   "source": [
    "names= ['obaid','zeeshan','shahzad','shakoor','faisal','khurram','ali','rizwan']\n",
    "print(names)\n",
    "#names"
   ]
  },
  {
   "cell_type": "code",
   "execution_count": 109,
   "metadata": {},
   "outputs": [
    {
     "name": "stdout",
     "output_type": "stream",
     "text": [
      "['obaid', 'zeeshan', 'shahzad', 'shakoor', 'faisal', 'khurram', 'ali', 'rizwan', 'moosa']\n"
     ]
    },
    {
     "data": {
      "text/plain": [
       "['obaid',\n",
       " 'zeeshan',\n",
       " 'shahzad',\n",
       " 'shakoor',\n",
       " 'faisal',\n",
       " 'khurram',\n",
       " 'ali',\n",
       " 'rizwan',\n",
       " 'moosa']"
      ]
     },
     "execution_count": 109,
     "metadata": {},
     "output_type": "execute_result"
    }
   ],
   "source": [
    "#Append function --> add element at the end by default\n",
    "\n",
    "names.append('moosa')\n",
    "print(names)\n",
    "#names.append('arham','arkam')\n",
    "names"
   ]
  },
  {
   "cell_type": "code",
   "execution_count": 110,
   "metadata": {},
   "outputs": [
    {
     "name": "stdout",
     "output_type": "stream",
     "text": [
      "['babar', 'obaid', 'zeeshan', 'shahzad', 'shakoor', 'faisal', 'khurram', 'ali', 'rizwan', 'areeba', 'moosa']\n"
     ]
    }
   ],
   "source": [
    "#insert Func --> insert at desired position\n",
    "names.insert(0,'babar')\n",
    "names.insert(-1,'areeba')\n",
    "print(names)\n",
    "#name=names.insert(0,'khurra') #insert does not returns anything\n",
    "#print(name)"
   ]
  },
  {
   "cell_type": "code",
   "execution_count": 111,
   "metadata": {},
   "outputs": [
    {
     "name": "stdout",
     "output_type": "stream",
     "text": [
      "['babar', 'obaid', 'zeeshan', 'shahzad', 'shakoor', 'faisal', 'khurram', 'rizwan', 'areeba', 'moosa']\n",
      "['babar', 'obaid', 'zeeshan', 'shahzad', 'shakoor', 'faisal', 'rizwan', 'areeba', 'moosa']\n",
      "['babar', 'obaid', 'zeeshan', 'shahzad', 'shakoor', 'faisal', 'khurram', 'rizwan', 'areeba', 'moosa']\n"
     ]
    }
   ],
   "source": [
    "#Remove Func(does not returns anything) --> removes the given element from the list\n",
    "\n",
    "names.remove('ali')\n",
    "print(names)\n",
    "bestFriend= 'khurram'\n",
    "names.remove(bestFriend)\n",
    "print(names)\n",
    "names.insert(6,bestFriend)\n",
    "print(names)\n",
    "#a=names.remove('rizwan') #remove does not returns anything\n",
    "#print(a)"
   ]
  },
  {
   "cell_type": "code",
   "execution_count": 112,
   "metadata": {},
   "outputs": [
    {
     "name": "stdout",
     "output_type": "stream",
     "text": [
      "moosa\n",
      "areeba\n",
      "['babar', 'obaid', 'zeeshan', 'shahzad', 'shakoor', 'faisal', 'khurram', 'rizwan']\n"
     ]
    }
   ],
   "source": [
    "#pop func -->delete element and also returns that element\n",
    "\n",
    "print(names.pop()) #by default at the end of the list\n",
    "#print(names.pop(0)) #by giving index number\n",
    "#print(name.pop('shahzad')) #by giving element will not work\n",
    "#n= 'obaid'\n",
    "#print(names.pop(n)) # by giving var will also not work\n",
    "deleted = names.pop()\n",
    "print(deleted)\n",
    "print(names)"
   ]
  },
  {
   "cell_type": "code",
   "execution_count": 127,
   "metadata": {},
   "outputs": [
    {
     "name": "stdout",
     "output_type": "stream",
     "text": [
      "['babar', 'faisal', 'khurram', 'obaid', 'rizwan', 'shahzad', 'shakoor', 'zeeshan']\n",
      "None\n",
      "['zeeshan', 'shakoor', 'shahzad', 'rizwan', 'obaid', 'khurram', 'faisal', 'babar']\n"
     ]
    }
   ],
   "source": [
    "#sort func --> Sorting of list with respect to given condition\n",
    "names.sort()#by default asending order\n",
    "#OR\n",
    "#nameas.sort(reverse=false)\n",
    "\n",
    "print(names)\n",
    "p=names.sort(reverse=True) #doesn't return\n",
    "print(p)\n",
    "print(names)\n"
   ]
  },
  {
   "cell_type": "code",
   "execution_count": 128,
   "metadata": {},
   "outputs": [
    {
     "name": "stdout",
     "output_type": "stream",
     "text": [
      "None\n"
     ]
    },
    {
     "data": {
      "text/plain": [
       "['babar',\n",
       " 'faisal',\n",
       " 'khurram',\n",
       " 'obaid',\n",
       " 'rizwan',\n",
       " 'shahzad',\n",
       " 'shakoor',\n",
       " 'zeeshan']"
      ]
     },
     "execution_count": 128,
     "metadata": {},
     "output_type": "execute_result"
    }
   ],
   "source": [
    "#reverse func --> prints in reserse order (simply mirror images) \n",
    "o=names.reverse() #doesn't returns\n",
    "print(o)\n",
    "print(names)"
   ]
  },
  {
   "cell_type": "code",
   "execution_count": 132,
   "metadata": {},
   "outputs": [
    {
     "name": "stdout",
     "output_type": "stream",
     "text": [
      "8\n"
     ]
    }
   ],
   "source": [
    "#len func -->identifies or calculate length of object\n",
    "\n",
    "#names.len() #error -- it is not lists attribute\n",
    "length = len(names) #returns integer\n",
    "print(length)\n"
   ]
  },
  {
   "cell_type": "markdown",
   "metadata": {},
   "source": [
    "# Loop"
   ]
  },
  {
   "cell_type": "code",
   "execution_count": 140,
   "metadata": {},
   "outputs": [
    {
     "name": "stdout",
     "output_type": "stream",
     "text": [
      "0 1 2 3 4 5 6 7 8 9 \n",
      "2 3 4 5 6 7 8 9 \n",
      "2 4 6 8 "
     ]
    }
   ],
   "source": [
    "for integers in range(10):\n",
    "    print(integers,end=' ')\n",
    "print()\n",
    "for integers in range(2,10):\n",
    "    print(integers,end=' ')\n",
    "print()\n",
    "for integers in range(2,10,2):\n",
    "    print(integers,end=' ')"
   ]
  },
  {
   "cell_type": "code",
   "execution_count": 181,
   "metadata": {},
   "outputs": [
    {
     "name": "stdout",
     "output_type": "stream",
     "text": [
      "False\n",
      "False\n",
      "True\n",
      "True\n",
      "False\n",
      "False\n",
      "False\n",
      "True\n",
      "False\n",
      "False\n",
      "True\n",
      "True\n",
      "False\n",
      "False\n",
      "True\n",
      "True\n",
      "False\n",
      "False\n"
     ]
    }
   ],
   "source": [
    "foods = ['Pasta','BBQ','Pizza','Biryani','Kabab','Karhai','Handi','Roll','Mandii']\n",
    "for foodItem in foods:\n",
    "    print(foodItem)\n",
    "for i in [1,2,3,4,5,6,7,8,9,0]:\n",
    "    print(i, end='')\n",
    "# for [i,j] in [1,2,3,4,5,6,7,8,9,0],[1]]:\n",
    "#     print(i, end='',sep='  ')\n",
    "\n",
    "a=[1]\n",
    "b=[1,2]\n",
    "c=[1,2,3]\n",
    "print(a<b)\n",
    "print(b>c)\n",
    "print(b<c)\n",
    "print(a<b>c)\n",
    "print(a<b<c)\n",
    "print(a>b>c)\n",
    "for i in a,b,c,2,'asdf':\n",
    "    print(i)\n",
    "for i in 'asdf':\n",
    "    print(i)\n",
    "\n",
    "d=[1,3,5,7,9]\n",
    "e=[1,3,5,7,9]\n",
    "f=[2,4,6,8,10]\n",
    "print(d<e)\n",
    "print(d>e)\n",
    "print(d==e)\n",
    "\n",
    "print(d<f)\n",
    "print(d>f)\n",
    "print(d==f)\n",
    "\n",
    "print(e>f)\n",
    "print(e<f)\n",
    "print(e==f)\n",
    "\n",
    "g=[199,34,5,45,5,66,45]  #final conclusion list compared as element by element ,greater length also doesn't matter \n",
    "h=[199,34,5,45,6]\n",
    "print(g>h)\n",
    "print(g<h)\n",
    "# print(len(g>h)) #object of type 'bool' has no len()\n",
    "# print(len(g<h)) #object of type 'bool' has no len()\n",
    "print(len(g)>len(h))\n",
    "print(len(g)<len(h))\n",
    "\n",
    "i='abcdefgh'  #final conclusion string compared as index by index,greater length also doesn't matter \n",
    "j='abcdefghi'\n",
    "k='abcdefghj'\n",
    "l='akngtbdef' \n",
    "print(i>j) \n",
    "print(i<j)\n",
    "print(j<k)\n",
    "print(j>k)\n",
    "print(k==l)"
   ]
  },
  {
   "cell_type": "code",
   "execution_count": 183,
   "metadata": {},
   "outputs": [
    {
     "data": {
      "text/plain": [
       "True"
      ]
     },
     "execution_count": 183,
     "metadata": {},
     "output_type": "execute_result"
    }
   ],
   "source": [
    "12>13\n",
    "12==13\n",
    "12<13"
   ]
  },
  {
   "cell_type": "code",
   "execution_count": 190,
   "metadata": {},
   "outputs": [
    {
     "name": "stdout",
     "output_type": "stream",
     "text": [
      "Moosa, that was a great implementation of AI in Python!\n",
      "\tI can't wait to see another, Moosa.\n",
      "\n",
      "Zulqarnain, that was a great implementation of AI in Python!\n",
      "\tI can't wait to see another, Zulqarnain.\n",
      "\n",
      "Khurram, that was a great implementation of AI in Python!\n",
      "\tI can't wait to see another, Khurram.\n",
      "\n"
     ]
    }
   ],
   "source": [
    "programmers = ['Moosa', 'Zulqarnain', 'Khurram']\n",
    "for programmer in programmers:\n",
    "    print(programmer.title() + \", that was a great implementation of AI in Python!\")\n",
    "    print(\"\\tI can't wait to see another, \" + programmer.title() + \".\\n\")\n",
    "    \n",
    "# programmers = ['Moosa', 'Zulqarnain', 'Khurram']\n",
    "# for programmer in programmers:\n",
    "# print(programmer.title() + \", that was a great implementation of AI in Python!\")\n",
    "# print(\"\\tI can't wait to see another, \" + programmer.title() + \".\\n\")"
   ]
  },
  {
   "cell_type": "code",
   "execution_count": 192,
   "metadata": {},
   "outputs": [
    {
     "name": "stdout",
     "output_type": "stream",
     "text": [
      "I love to drive Audi,Rx8,Honda,These are my favourite cars.\n"
     ]
    }
   ],
   "source": [
    "cars = ['audi' , 'rx8' , 'honda']\n",
    "print(\"I love to drive\", end=\" \")\n",
    "for car in cars:\n",
    "    print(car.title(),end=',',sep='')\n",
    "print(\"These are my favourite cars.\")\n"
   ]
  },
  {
   "cell_type": "markdown",
   "metadata": {},
   "source": [
    "# Math operations(cont.)"
   ]
  },
  {
   "cell_type": "code",
   "execution_count": 201,
   "metadata": {},
   "outputs": [
    {
     "name": "stdout",
     "output_type": "stream",
     "text": [
      "current state of list according to 0th iteration of loop :[0]\n",
      "current state of list according to 1st iteration of loop :[0, 1]\n",
      "current state of list according to 2nd iteration of loop :[0, 1, 4]\n",
      "current state of list according to 3rd iteration of loop :[0, 1, 4, 9]\n",
      "current state of list according to 4th iteration of loop :[0, 1, 4, 9, 16]\n",
      "current state of list according to 5th iteration of loop :[0, 1, 4, 9, 16, 25]\n",
      "current state of list according to 6th iteration of loop :[0, 1, 4, 9, 16, 25, 36]\n",
      "current state of list according to 7th iteration of loop :[0, 1, 4, 9, 16, 25, 36, 49]\n",
      "current state of list according to 8th iteration of loop :[0, 1, 4, 9, 16, 25, 36, 49, 64]\n",
      "current state of list according to 9th iteration of loop :[0, 1, 4, 9, 16, 25, 36, 49, 64, 81]\n",
      "current state of list according to 10th iteration of loop :[0, 1, 4, 9, 16, 25, 36, 49, 64, 81, 100]\n"
     ]
    }
   ],
   "source": [
    "square=list()\n",
    "for value in range(11):\n",
    "    squareRoot=value**2\n",
    "    square.append(squareRoot)\n",
    "    if value == 1:\n",
    "        print(\"current state of list according to \"+ str(value) +\"st iteration of loop :\" + str(square))\n",
    "    elif value == 2:\n",
    "                print(\"current state of list according to \"+ str(value) +\"nd iteration of loop :\" + str(square))\n",
    "    elif value == 3:\n",
    "                print(\"current state of list according to \"+ str(value) +\"rd iteration of loop :\" + str(square))\n",
    "    else:\n",
    "        print(\"current state of list according to \"+ str(value) +\"th iteration of loop :\" + str(square))\n",
    "\n",
    "\n",
    "\n",
    "\n",
    "        \n",
    "    "
   ]
  },
  {
   "cell_type": "code",
   "execution_count": 207,
   "metadata": {},
   "outputs": [
    {
     "name": "stdout",
     "output_type": "stream",
     "text": [
      "14862\n",
      "7457\n",
      "1\n"
     ]
    }
   ],
   "source": [
    "randomNumbers = [12,34,5,6,435,4,7457,6434,3,5,4,3,234,4,56,1,2,4,54,5,45,55]\n",
    "print(sum(randomNumbers))\n",
    "print(max(randomNumbers))\n",
    "print(min(randomNumbers))"
   ]
  },
  {
   "cell_type": "code",
   "execution_count": null,
   "metadata": {},
   "outputs": [],
   "source": []
  }
 ],
 "metadata": {
  "kernelspec": {
   "display_name": "Python 3",
   "language": "python",
   "name": "python3"
  },
  "language_info": {
   "codemirror_mode": {
    "name": "ipython",
    "version": 3
   },
   "file_extension": ".py",
   "mimetype": "text/x-python",
   "name": "python",
   "nbconvert_exporter": "python",
   "pygments_lexer": "ipython3",
   "version": "3.7.1"
  }
 },
 "nbformat": 4,
 "nbformat_minor": 2
}
