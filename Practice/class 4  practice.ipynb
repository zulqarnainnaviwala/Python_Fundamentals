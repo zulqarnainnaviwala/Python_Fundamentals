{
 "cells": [
  {
   "cell_type": "markdown",
   "metadata": {},
   "source": [
    "# Lists (Cont.)"
   ]
  },
  {
   "cell_type": "code",
   "execution_count": 25,
   "metadata": {},
   "outputs": [
    {
     "name": "stdout",
     "output_type": "stream",
     "text": [
      "[1, 4, 9, 16, 25, 36, 49, 64, 81, 100]\n",
      "[1, 3, 5, 7, 9]\n",
      "elements in a list are: 0\n",
      "3\n",
      "6\n",
      "9\n",
      "12\n",
      "15\n",
      "18\n",
      "21\n",
      "24\n",
      "27\n",
      "30\n",
      "3 * 1 = 3\n",
      "3 * 2 = 6\n",
      "3 * 3 = 9\n",
      "3 * 4 = 12\n",
      "3 * 5 = 15\n",
      "3 * 6 = 18\n",
      "3 * 7 = 21\n",
      "3 * 8 = 24\n",
      "3 * 9 = 27\n",
      "3 * 10 = 30\n"
     ]
    }
   ],
   "source": [
    "#making list of square roots\n",
    "sqrt = [val**2 for val in range(1,11)]  # range() func used to define no. of values\n",
    "print(sqrt)\n",
    "\n",
    "#making list by manipulating object\n",
    "oddNumbers = list(range(1,11,2))\n",
    "print(oddNumbers)\n",
    "\n",
    "#multiple of 3 between 0-31 , and accessing elements individually byh for loop\n",
    "multiple_Of_3 = list(range(0,31,3))\n",
    "#print(multiple_Of_3)\n",
    "print(\"elements in a list are:\", end= ' ')\n",
    "for element in multiple_Of_3:\n",
    "        print(element)\n",
    "#     if element == multiple_Of_3[-1]:\n",
    "#         print(element, end= '')\n",
    "#     else:\n",
    "#         print(element, end= ' , ')\n",
    "\n",
    "#table of 3\n",
    "for element in range(1,11):\n",
    "    print(\"3 * \"+ str(element) +\" = \"+str(3*element))\n",
    "\n",
    "\n",
    "\n"
   ]
  },
  {
   "cell_type": "code",
   "execution_count": 31,
   "metadata": {},
   "outputs": [
    {
     "name": "stdout",
     "output_type": "stream",
     "text": [
      "['Atlanta', 'Baltimore', 'Chicago', 'Denver', 'Los Angeles', 'Seattle', 'New York']\n",
      "['Atlanta', 'Baltimore', 'Chicago', 'Denver', 'Los Angeles', 'Seattle', 'New York', 'New Orleans', 'dubugque']\n"
     ]
    }
   ],
   "source": [
    "UScities = [\"Atlanta\", \"Baltimore\", \"Chicago\",\"Denver\", \"Los Angeles\", \"Seattle\"]\n",
    "UScities.append(\"New York\")\n",
    "print(UScities)\n",
    "UScities = UScities + [\"New Orleans\",\"dubugque\"]\n",
    "print(UScities)\n"
   ]
  },
  {
   "cell_type": "code",
   "execution_count": 51,
   "metadata": {},
   "outputs": [
    {
     "name": "stdout",
     "output_type": "stream",
     "text": [
      "please enter no. of mobile brands you want to put in list5\n",
      "enter brand : apple \n",
      "enter brand : samsung\n",
      "enter brand : oppo\n",
      "enter brand : infinix\n",
      "enter brand : huawei\n",
      "your brands list :['apple ', 'samsung', 'oppo', 'infinix', 'huawei']\n"
     ]
    }
   ],
   "source": [
    "mobiles = []\n",
    "n=int(input(\"please enter no. of mobile brands you want to put in list\"))\n",
    "for i in range(n):\n",
    "    brand = input(\"enter brand : \")\n",
    "    mobiles = mobiles + [brand]\n",
    "#     brand = list(input(\"enter brand : \"))\n",
    "#     mobiles = mobiles + brand\n",
    "print(\"your brands list :\"+str(mobiles))\n",
    "\n"
   ]
  },
  {
   "cell_type": "code",
   "execution_count": 63,
   "metadata": {},
   "outputs": [
    {
     "name": "stdout",
     "output_type": "stream",
     "text": [
      "['martina', 'michael', 'florence']\n",
      "['charles', 'martina', 'michael', 'florence', 'eli']\n"
     ]
    }
   ],
   "source": [
    "#slicing in a list(returns values--could be caught in a variable just like we did in pop()) --> [starting , ending(till less than 1 like range function)]\n",
    "\n",
    "aList = players = ['charles', 'martina', 'michael', 'florence', 'eli']\n",
    "sliced0 = players[:]   #copy whole list (a new copy which never shares same reference remember)\n",
    "#e.g sliced0 = players --> will share same reference , if somthing ever changes to sliced0 will also be over write automatically on players\n",
    "sliced1 = players[3:2]   #starting > ending till '0' will also generate empty list (e.g [3:0] is last possibility ,and [3:-1] will do something different )\n",
    "sliced2 = players[3:3]   #same number will generate empty list\n",
    "sliced3 = players[3:4]   #[x:x+1]targeting the starting point element which is here 'x'\n",
    "sliced4 = players[3:9]   #if ending index doesn't exists , it will copy till last index by default\n",
    "sliced5 = players[1:]    #start from 1th till last index \n",
    "sliced6 = players[1:-1]  #start from 1th index till second last index (simply : ignoring first & last element of a list)\n",
    "sliced7 = players[2:-1]  #mean reading in reverse order , -1 indicates last element\n",
    "sliced8 = players[-2:-1] #[x:x+1] case\n",
    "sliced9 = players[:-1]   #ignoring last element\n",
    "sliced10= players[-3:-3] #same number will generate empty list\n",
    "print(players)\n",
    "print(sliced0)\n",
    "print(sliced1)\n",
    "print(sliced2)\n",
    "print(sliced3)\n",
    "print(sliced4)\n",
    "print(sliced5)\n",
    "print(sliced6)\n",
    "print(sliced7)\n",
    "print(sliced8)\n",
    "print(sliced9)\n",
    "print(sliced10)\n",
    "\n"
   ]
  },
  {
   "cell_type": "code",
   "execution_count": null,
   "metadata": {},
   "outputs": [],
   "source": []
  },
  {
   "cell_type": "code",
   "execution_count": null,
   "metadata": {},
   "outputs": [],
   "source": []
  }
 ],
 "metadata": {
  "kernelspec": {
   "display_name": "Python 3",
   "language": "python",
   "name": "python3"
  },
  "language_info": {
   "codemirror_mode": {
    "name": "ipython",
    "version": 3
   },
   "file_extension": ".py",
   "mimetype": "text/x-python",
   "name": "python",
   "nbconvert_exporter": "python",
   "pygments_lexer": "ipython3",
   "version": "3.7.1"
  }
 },
 "nbformat": 4,
 "nbformat_minor": 2
}
