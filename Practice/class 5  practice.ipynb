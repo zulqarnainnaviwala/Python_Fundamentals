{
 "cells": [
  {
   "cell_type": "markdown",
   "metadata": {},
   "source": [
    "# Math operations(cont.)"
   ]
  },
  {
   "cell_type": "raw",
   "metadata": {},
   "source": [
    "Meaning              Math Symbol\t   Python Symbols\n",
    "Less than\t              <\t                 <\n",
    "Greater than\t          >\t                 >\n",
    "Less than or equal\t      ≤  \t             <=\n",
    "Greater than or equal\t  ≥\t                 >=\n",
    "Equals\t                  =\t                 ==\n",
    "Not equal\t              ≠\t                 !="
   ]
  },
  {
   "cell_type": "code",
   "execution_count": null,
   "metadata": {},
   "outputs": [],
   "source": [
    "var = 0 # basically it's the boolean , so it's mean var =false\n",
    "# var = int(0)\n",
    "# var = float(0)\n",
    "# var = str(0)\n",
    "if var:\n",
    "    print('variable has some value')\n",
    "else:\n",
    "    print(\"variable has 0 or False\")\n",
    "\n"
   ]
  },
  {
   "cell_type": "code",
   "execution_count": null,
   "metadata": {},
   "outputs": [],
   "source": [
    "username = str(input(\"Enter your Name or Username :\")).lower()\n",
    "if username == 'muhammad zulqarnain' or username == 'zulqarnainnaviwala':\n",
    "    print(\"welcome \" + username)\n",
    "    password= int(input('please enter your password :'))\n",
    "    if password == 12345:\n",
    "        print('Hello , Good Morning !')    \n",
    "    else:\n",
    "        print(\"Invalid Password\")\n",
    "else:\n",
    "    print(\"Invalid Username/Name\")\n",
    "            \n",
    "        "
   ]
  },
  {
   "cell_type": "code",
   "execution_count": null,
   "metadata": {},
   "outputs": [],
   "source": [
    "weight = float(input(\"How many pounds does your suitcase weigh? \"))\n",
    "if weight >= 0.0 and weight <= 25:\n",
    "    print(\"There is a $10 charge for luggage that heavy\")\n",
    "elif weight >= 50 and weight <= 75:\n",
    "    print(\"There is a $30 charge for luggage that heavy.\")\n",
    "elif weight >=25 and weight <= 50:\n",
    "    print('There is a $20 charge for luggage that heavy.')\n",
    "else:\n",
    "    print('There is a $40 charge for luggage that heavy.')"
   ]
  },
  {
   "cell_type": "code",
   "execution_count": null,
   "metadata": {},
   "outputs": [],
   "source": [
    "mark = float(input(\"Enter yours marks in this course out of 100 :\"))\n",
    "\n",
    "grade =''\n",
    "\n",
    "if mark >= 90 and mark <=100 :\n",
    "    grade = 'A+'\n",
    "elif mark >= 80:\n",
    "    grade = 'A'\n",
    "elif mark >= 70:\n",
    "    grade = 'B'\n",
    "elif mark >= 60:\n",
    "    grade = 'C'\n",
    "elif mark >= 50:\n",
    "    grade = 'D'\n",
    "elif mark >= 0:\n",
    "    grade = 'F'\n",
    "else:\n",
    "    print('Invalid Input')\n",
    "\n",
    "if mark<0:\n",
    "    print()\n",
    "else:\n",
    "    print('Your Grade for this course is:' + str(grade))\n"
   ]
  },
  {
   "cell_type": "code",
   "execution_count": null,
   "metadata": {},
   "outputs": [],
   "source": [
    "engMarks = float(input(\"Enter your English marks: \"))\n",
    "mathMarks = float(input(\"Enter your Maths marks: \"))\n",
    "urduMarks = float(input(\"Enter your Urdu marks: \"))\n",
    "scienceMarks = float(input(\"Enter your Science marks: \"))\n",
    "progMarks = float(input(\"Enter your Programming marks: \"))\n",
    "\n",
    "total = engMarks + mathMarks + urduMarks + scienceMarks + progMarks\n",
    "percentage = (total/500)*100\n",
    "percentage=round(percentage,1)\n",
    "grade=''\n",
    "\n",
    "if   percentage >= 89.5 and percentage <= 100:\n",
    "    grade= \"A+\"\n",
    "elif percentage >= 89.4 and percentage <= 79.5:\n",
    "    grade = \"A\"    \n",
    "elif percentage >= 79.4 and percentage <= 69.5:\n",
    "    grade = \"B\"\n",
    "elif percentage >= 69.4 and percentage <= 59.5:\n",
    "    grade = \"C\"\n",
    "elif percentage >= 59.4 and percentage <= 49.5:\n",
    "    grade = \"D\"\n",
    "else:\n",
    "    grade = 'F'\n",
    "\n",
    "print('You scored ' + str(total)+ \" out of 500\")\n",
    "\n",
    "#round off function --> (parameter) or (para,till floating point)\n",
    "roundOff = round(percentage,2)\n",
    "print(\"Your percentage is \" + str(roundOff)+\" % .\")\n",
    "\n",
    "print(\"Your grade is \" + str(grade) +\".\")\n"
   ]
  },
  {
   "cell_type": "code",
   "execution_count": null,
   "metadata": {},
   "outputs": [],
   "source": [
    "total = float(0)\n",
    "print('Enter marks for 5 subjects :')\n",
    "for i in range(5):\n",
    "    marks= float(input())\n",
    "    while marks > 100 or marks < 0:\n",
    "        print('invalid marks \\nEnter again :')\n",
    "        marks= float(input())\n",
    "    total=total+marks\n",
    "\n",
    "\n",
    "percentage = (total/500)*100\n",
    "percentage=round(percentage,1)\n",
    "grade=''\n",
    "\n",
    "if   percentage >= 89.5 and percentage <= 100:\n",
    "    grade= \"A+\"\n",
    "elif percentage >= 89.4 and percentage <= 79.5:\n",
    "    grade = \"A\"    \n",
    "elif percentage >= 79.4 and percentage <= 69.5:\n",
    "    grade = \"B\"\n",
    "elif percentage >= 69.4 and percentage <= 59.5:\n",
    "    grade = \"C\"\n",
    "elif percentage >= 59.4 and percentage <= 49.5:\n",
    "    grade = \"D\"\n",
    "else:\n",
    "    grade = 'F'\n",
    "\n",
    "print('You scored ' + str(round(total,1))+ \" out of 500\")\n",
    "\n",
    "#round off function --> (parameter) or (para,till floating point)\n",
    "roundOff = round(percentage,2)\n",
    "print(\"Your percentage is \" + str(roundOff)+\" % .\")\n",
    "\n",
    "print(\"Your grade is \" + str(grade) +\".\")\n"
   ]
  },
  {
   "cell_type": "code",
   "execution_count": 11,
   "metadata": {},
   "outputs": [
    {
     "name": "stdout",
     "output_type": "stream",
     "text": [
      "Enter marks for 5 subjects :\n",
      "enter 1st subject marks:45\n",
      "enter 2nd subject marks:45\n",
      "enter 3rd subject marks:45\n",
      "enter 4th subject marks:85\n",
      "enter 5th subject marks:100\n",
      "You scored 320.0 out of 500\n",
      "Your percentage is 64.0 % .\n",
      "Your grade is A.\n"
     ]
    }
   ],
   "source": [
    "total = float(0)\n",
    "print('Enter marks for 5 subjects :')\n",
    "\n",
    "for i in range(5):\n",
    "    if i == 0:\n",
    "        marks= float(input('enter '+ str(i+1) +'st subject marks:'))\n",
    "        while marks > 100 or marks < 0:\n",
    "            print('invalid marks \\nEnter again :')\n",
    "            marks= float(input())\n",
    "        total=total+marks\n",
    "    elif i==1:\n",
    "        marks= float(input('enter '+ str(i+1) +'nd subject marks:'))\n",
    "        while marks > 100 or marks < 0:\n",
    "            print('invalid marks \\nEnter again :')\n",
    "            marks= float(input())\n",
    "        total=total+marks\n",
    "    elif i==2:\n",
    "        marks= float(input('enter '+ str(i+1) +'rd subject marks:'))\n",
    "        while marks > 100 or marks < 0:\n",
    "            print('invalid marks \\nEnter again :')\n",
    "            marks= float(input())\n",
    "        total=total+marks\n",
    "    else:\n",
    "        marks= float(input('enter '+ str(i+1) +'th subject marks:'))\n",
    "        while marks > 100 or marks < 0:\n",
    "            print('invalid marks \\nEnter again :')\n",
    "            marks= float(input())\n",
    "        total=total+marks\n",
    "\n",
    "\n",
    "percentage = (total/500)*100\n",
    "percentage=round(percentage,1)\n",
    "grade=''\n",
    "\n",
    "if   percentage >= 89.5 and percentage <= 100:\n",
    "    grade= \"A+\"\n",
    "elif percentage >= 89.4 and percentage <= 79.5:\n",
    "    grade = \"A\"    \n",
    "elif percentage >= 79.4 and percentage <= 69.5:\n",
    "    grade = \"B\"\n",
    "elif percentage >= 69.4 and percentage <= 59.5:\n",
    "    grade = \"C\"\n",
    "elif percentage >= 59.4 and percentage <= 49.5:\n",
    "    grade = \"D\"\n",
    "else:\n",
    "    grade = 'F'\n",
    "\n",
    "print('You scored ' + str(round(total,1))+ \" out of 500\")\n",
    "\n",
    "#round off function --> (parameter) or (para,till floating point)\n",
    "roundOff = round(percentage,2)\n",
    "print(\"Your percentage is \" + str(roundOff)+\" % .\")\n",
    "\n",
    "print(\"Your grade is \" + str(grade) +\".\")\n"
   ]
  },
  {
   "cell_type": "code",
   "execution_count": 7,
   "metadata": {},
   "outputs": [
    {
     "name": "stdout",
     "output_type": "stream",
     "text": [
      "          Vote Casting\n",
      "enter age :18\n",
      "enter your nationality :pak\n",
      "do you have your own National CNIC right now ?[y/n]y\n",
      "You  are allowed to cast vote.\n"
     ]
    }
   ],
   "source": [
    "print('          Vote Casting')\n",
    "age  = int(input('enter age :'))\n",
    "remain  = 18-age\n",
    "if remain>0:\n",
    "    print('you are under age, you will eligible to cast vote after '+str(remain)+ ' year/years.')\n",
    "\n",
    "if age >= 18 :\n",
    "    nationality = str(input('enter your nationality :')).lower()\n",
    "    if nationality=='pak' or nationality=='pakistan':\n",
    "        CNIC = str(input('do you have your own National CNIC right now ?[y/n]').lower())\n",
    "        if CNIC == 'y':\n",
    "            print('You  are allowed to cast vote.')\n",
    "        else:\n",
    "            print('you not allowed right now , must bring CNIC next time.')\n",
    "    else:\n",
    "        print('you are not allowed to cast vote due to different nationality.')\n",
    "    "
   ]
  },
  {
   "cell_type": "code",
   "execution_count": null,
   "metadata": {},
   "outputs": [],
   "source": []
  }
 ],
 "metadata": {
  "kernelspec": {
   "display_name": "Python 3",
   "language": "python",
   "name": "python3"
  },
  "language_info": {
   "codemirror_mode": {
    "name": "ipython",
    "version": 3
   },
   "file_extension": ".py",
   "mimetype": "text/x-python",
   "name": "python",
   "nbconvert_exporter": "python",
   "pygments_lexer": "ipython3",
   "version": "3.7.1"
  }
 },
 "nbformat": 4,
 "nbformat_minor": 2
}
