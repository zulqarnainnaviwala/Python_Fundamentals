{
 "cells": [
  {
   "cell_type": "markdown",
   "metadata": {},
   "source": [
    "# Tuples"
   ]
  },
  {
   "cell_type": "raw",
   "metadata": {},
   "source": [
    "A tuple is a sequence of immutable Python objects. Tuples are sequences, just like lists. \n",
    "The differences between tuples and lists are, the tuples cannot be changed unlike lists and tuples use parentheses, whereas lists use square brackets. tup1 = (50,);"
   ]
  },
  {
   "cell_type": "code",
   "execution_count": null,
   "metadata": {},
   "outputs": [],
   "source": [
    "#difference? \n",
    "List = [2,]\n",
    "List = [2]"
   ]
  },
  {
   "cell_type": "code",
   "execution_count": null,
   "metadata": {},
   "outputs": [],
   "source": [
    "friends=('Ayesha','Saba','Noor','Areeba','Naima')\n",
    "#friends = tuple(('Ayesha','Saba','Noor','Areeba','Naima')) #same work as above\n",
    "print(friends)\n",
    "\n",
    "#friends.insert(1,'Alisha') --> will not  ('tuple' object has no attribute 'insert', its list's)\n",
    "#friends.append('Alisha') --> will not  ('tuple' object has no attribute 'append', its list's)\n",
    "#UScities[0] = 'City'  # tuple can't be overwrite\n",
    "del friends #tuples can be deleted\n",
    "#del friends[2] # invididual element can't be deleted.\n",
    "\n",
    "\n",
    "#tuple elements can copy to new varriables as like lists\n",
    "UScities = ('New York City',\"Atlanta\", \"Baltimore\", \"Chicago\",\"Denver\", \"Los Angeles\", \"Seattle\")\n",
    "myCity = UScities[0]\n",
    "print(myCity)\n",
    "\n",
    "\n",
    "\n",
    "\n",
    "#tuples could be slice as like lists\n",
    "oddNumbers = list(range(1,200,2))\n",
    "print(oddNumbers)\n",
    "print(len(oddNumbers))\n",
    "\n",
    "firstTenElements = oddNumbers[:10]\n",
    "print(firstTenElements)\n",
    "print(len(firstTenElements))\n",
    "\n",
    "lastTenElements = oddNumbers[-10:]\n",
    "print(lastTenElements)\n",
    "print(len(lastTenElements))\n",
    "\n",
    "\n",
    "a = (len(oddNumbers)//2)+2\n",
    "b = (len(oddNumbers)//2)-2\n",
    "print(type(a))\n",
    "print(type(b))\n",
    "\n",
    "middleTenElements = oddNumbers[a:b]  #how?\n",
    "#print(lastTenElements)\n",
    "#print(len(lastTenElements))\n",
    "\n",
    "\n",
    "\n"
   ]
  },
  {
   "cell_type": "code",
   "execution_count": null,
   "metadata": {},
   "outputs": [],
   "source": [
    "\n",
    "# subjects = ('Maths','Chemistry','Physics','Urdu','English','Pak-Studies')\n",
    "# print(subjects)\n",
    "\n",
    "# #testing a subject in tuple\n",
    "# if 'Biology' not in subjects:\n",
    "#     print(\"Biology isn't from your subjects\\nYour Subjects are:\")\n",
    "# for s in subjects:\n",
    "#     print(s)\n",
    "\n",
    "\n",
    "\n",
    "# fruits = ('water melon' , 'apple' , 'banana' , 'cherry' , 'pineapple' , 'strawberry' , 'orange' , 'mango' , 'grapes' , 'peach')\n",
    "# print('\\n\\nyou have entered :')\n",
    "# for fruit in fruits:\n",
    "#     print(fruit)\n",
    "# print('\\n',len(fruits))\n",
    "\n",
    "\n",
    "\n",
    "# #given below will also not work because tuple has no such attributes(tuples are immutable)\n",
    "# # fruits.remove('apple')\n",
    "# # fruits.reverse()\n",
    "# # fruits.sort()\n",
    "# # fruits.sort(reverse = True)\n",
    "\n",
    "\n",
    "\n",
    "\n",
    "\n",
    "l = [5,6,7,3,4,2,4,9,0,8,7,1,2,3,4,5,7,8,9,5,4,3,10]\n",
    "print(sorted(l))#returns an iterable list\n",
    "print(l.sort(reverse = False)) #doesn't return any vale , it changes the original list\n",
    "print(l)\n",
    "\n",
    "print(reversed(l)) #returns a reversed iterator object.\n",
    "reversed_l= []\n",
    "for e in reversed(l):\n",
    "    reversed_l.append(e)\n",
    "print(reversed_l)\n",
    "del reversed_l\n",
    "reversed(l)\n",
    "l\n"
   ]
  },
  {
   "cell_type": "markdown",
   "metadata": {},
   "source": [
    "# Dictionaries"
   ]
  },
  {
   "cell_type": "raw",
   "metadata": {},
   "source": [
    "dictionary = {'key':'value'}"
   ]
  },
  {
   "cell_type": "code",
   "execution_count": null,
   "metadata": {},
   "outputs": [],
   "source": [
    "print(dict)\n",
    "print(dict())\n",
    "\n",
    "# print(list)\n",
    "# print(list())\n"
   ]
  },
  {
   "cell_type": "code",
   "execution_count": 38,
   "metadata": {},
   "outputs": [
    {
     "name": "stdout",
     "output_type": "stream",
     "text": [
      "{1: 3, 2: 2}\n",
      "{'z': 5}\n",
      "5\n"
     ]
    },
    {
     "data": {
      "text/plain": [
       "5"
      ]
     },
     "execution_count": 38,
     "metadata": {},
     "output_type": "execute_result"
    }
   ],
   "source": [
    "alien = dict()\n",
    "#alien.append(\"'color':'black'\")\n",
    "alien['color'] = 'Black'\n",
    "alien['height'] = 5\n",
    "\n",
    "\n",
    "coordinates = {'x':1.2 , 'y':1.2} #any datatype can be key or value\n",
    "number = {1:1,2:2} #define\n",
    "number[1]=3 #overwrite \n",
    "print(number)\n",
    "listDict= dict({'a':[0,1,2,3]}) # key can be string\n",
    "#listDict= dict({{0,1,2,3}:1})   # error key cant be set\n",
    "#listDict= dict({[0,1,2]:1})     # error key cant be list\n",
    "\n",
    "\n",
    "listDict= dict({1:{0,1,2,3}})   # key can be integer\n",
    "listDict[1]\n",
    "listA = 'z'\n",
    "\n",
    "\n",
    "dic = {listA:5} #key by passing variable\n",
    "print(dic)\n",
    "print(dic['z'])\n",
    "a= dic['z']\n",
    "a\n"
   ]
  },
  {
   "cell_type": "code",
   "execution_count": 39,
   "metadata": {},
   "outputs": [
    {
     "name": "stdout",
     "output_type": "stream",
     "text": [
      "{2: 'b', 3: 'c', 4: 'd', 5: 'e', 6: 'f', 7: 'g', 8: 'h', 9: 'i', 10: 'j', 11: 'k', 12: 'l', 13: 'm', 14: 'n', 15: 'o', 16: 'p', 17: 'q', 18: 'r', 19: 's', 20: 't', 21: 'u', 22: 'v', 23: 'w', 24: 'x', 25: 'y', 26: 'z'}\n",
      "{2: 'b', 3: 'c', 4: 'd', 5: 'e', 6: 'f', 7: 'g', 8: 'h', 9: 'i', 10: 'j', 11: 'k', 12: 'l', 13: 'm', 14: 'n', 15: 'o', 16: 'p', 17: 'q', 18: 'r', 19: 's', 20: 't', 21: 'u', 22: 'v', 23: 'w', 24: 'x', 25: 'y'}\n",
      "[25, 24, 23, 22, 21, 20, 19, 18, 17, 16, 15, 14, 13, 12, 11, 10, 9, 8, 7, 6, 5, 4, 3, 2]\n"
     ]
    }
   ],
   "source": [
    "\n",
    "#deletion in dictionaries\n",
    "alphabets = {1:'a',2:'b',3:'c',4:'d',5:'e',6:'f',7:'g',8:'h',9:'i',10:'j',11:'k',12:'l',13:'m',14:'n',15:'o',16:'p',17:'q',18:'r',19:'s',20:'t',21:'u',22:'v',23:'w',24:'x',25:'y',26:'z'}\n",
    "# del alphabets #deleting whole dictionary\n",
    "del alphabets[1] #deleting element by providing key\n",
    "print(alphabets)\n",
    "del alphabets[26] \n",
    "print(alphabets)\n",
    "\n",
    "a = sorted(alphabets,reverse= True) # will sort dictionary's key and show as a list\n",
    "print(a)\n"
   ]
  },
  {
   "cell_type": "code",
   "execution_count": null,
   "metadata": {},
   "outputs": [],
   "source": []
  }
 ],
 "metadata": {
  "kernelspec": {
   "display_name": "Python 3",
   "language": "python",
   "name": "python3"
  },
  "language_info": {
   "codemirror_mode": {
    "name": "ipython",
    "version": 3
   },
   "file_extension": ".py",
   "mimetype": "text/x-python",
   "name": "python",
   "nbconvert_exporter": "python",
   "pygments_lexer": "ipython3",
   "version": "3.7.1"
  }
 },
 "nbformat": 4,
 "nbformat_minor": 2
}
