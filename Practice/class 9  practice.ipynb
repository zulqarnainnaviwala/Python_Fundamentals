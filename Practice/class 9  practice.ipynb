{
 "cells": [
  {
   "cell_type": "markdown",
   "metadata": {},
   "source": [
    "# While Loop"
   ]
  },
  {
   "cell_type": "code",
   "execution_count": 3,
   "metadata": {},
   "outputs": [
    {
     "name": "stdout",
     "output_type": "stream",
     "text": [
      "Enter for money: 45\n",
      "you have 45 cash\n",
      "Enter for money: 0\n",
      "you have zero cash\n",
      "Enter for money: 0\n",
      "you have zero cash\n",
      "Enter for money: 45\n",
      "you have 45 cash\n",
      "Enter for money: 47\n",
      "you have 47 cash\n"
     ]
    }
   ],
   "source": [
    "counter = 0\n",
    "while True:\n",
    "    a = int(input(\"Enter for money: \"))\n",
    "    if a == 0:\n",
    "        print(\"you have zero cash\")\n",
    "    else:\n",
    "        print('you have '+str(a)+ ' cash')\n",
    "    counter = counter + 1\n",
    "    if counter == 5: #loop will terminate after 5 iterations\n",
    "        break\n",
    "        \n",
    "    \n",
    "        "
   ]
  },
  {
   "cell_type": "code",
   "execution_count": 1,
   "metadata": {},
   "outputs": [
    {
     "name": "stdout",
     "output_type": "stream",
     "text": [
      "Tell me something i'll repeat to you: \n",
      "Enter 'quit' to close the program.ASD\n",
      "asd\n",
      "Tell me something i'll repeat to you: \n",
      "Enter 'quit' to close the program.ZZZZZZZZZZZZZZZZZZZZ\n",
      "zzzzzzzzzzzzzzzzzzzz\n",
      "Tell me something i'll repeat to you: \n",
      "Enter 'quit' to close the program.\n",
      "\n",
      "Tell me something i'll repeat to you: \n",
      "Enter 'quit' to close the program.\n",
      "\n",
      "Tell me something i'll repeat to you: \n",
      "Enter 'quit' to close the program.quit\n",
      "quit\n"
     ]
    }
   ],
   "source": [
    "prompt = \"Tell me something i'll repeat to you: \"\n",
    "prompt += \"\\nEnter 'quit' to close the program.\"\n",
    "message = ''\n",
    "while message != 'quit':\n",
    "    message = input(prompt).lower()\n",
    "    print(message)"
   ]
  },
  {
   "cell_type": "code",
   "execution_count": 2,
   "metadata": {},
   "outputs": [
    {
     "name": "stdout",
     "output_type": "stream",
     "text": [
      "Enter your today schedule\n",
      "Enter Done when done with scheduling\n",
      ">  goto university\n",
      ">  take breakfast\n",
      ">  goto Home from University\n",
      ">  take Lunch\n",
      ">  goto Dhoraji\n",
      ">  goto meet Friends\n",
      ">  goto Home\n",
      ">  take Dinner\n",
      ">  take laptop for studying\n",
      ">  fall asleep\n",
      ">  and repeat , your life overs here\n",
      ">  quit\n",
      "\n",
      "Here is your all day schedule\n",
      "Goto University\n",
      "Take Breakfast\n",
      "Goto Home From University\n",
      "Take Lunch\n",
      "Goto Dhoraji\n",
      "Goto Meet Friends\n",
      "Goto Home\n",
      "Take Dinner\n",
      "Take Laptop For Studying\n",
      "Fall Asleep\n",
      "And Repeat , Your Life Overs Here\n"
     ]
    }
   ],
   "source": [
    "print(\"Enter your today schedule\")\n",
    "print(\"Enter Done when done with scheduling\")\n",
    "\n",
    "todo_list = []\n",
    "while True:\n",
    "    list = input(\">  \")\n",
    "    if list == 'quit':\n",
    "        break\n",
    "    todo_list.append(list)\n",
    "\n",
    "\n",
    "print(\"\\nHere is your all day schedule\")\n",
    "for todo in todo_list:\n",
    "    print(todo.title())"
   ]
  },
  {
   "cell_type": "code",
   "execution_count": 14,
   "metadata": {},
   "outputs": [
    {
     "name": "stdout",
     "output_type": "stream",
     "text": [
      "Enter a name of the city , or press \"q\" to terminate the program: karachi\n",
      "It's one of yhe cleanest city.\n",
      "Enter a name of the city , or press \"q\" to terminate the program: hyderabad\n",
      "It's not a cleanest city\n",
      "Enter a name of the city , or press \"q\" to terminate the program: q\n"
     ]
    }
   ],
   "source": [
    "CleanCity = ['karachi' , 'Santa Fe' , 'Tucson' , 'Great Falls']\n",
    "user_input = \"\"\n",
    "while user_input != 'q':\n",
    "    user_input = input('Enter a name of the city , or press \"q\" to terminate the program: ')\n",
    "    if user_input != \"q\":\n",
    "        for CleanCitys in CleanCity:\n",
    "            if user_input == CleanCitys:\n",
    "                print(\"It's one of yhe cleanest city.\")\n",
    "                break\n",
    "            else:\n",
    "                print(\"It's not a cleanest city\")\n",
    "                break"
   ]
  },
  {
   "cell_type": "code",
   "execution_count": 17,
   "metadata": {},
   "outputs": [
    {
     "name": "stdout",
     "output_type": "stream",
     "text": [
      "\n",
      "Please Enter your city name :\n",
      "Enter 'quit' to terminate the program....Lahore\n",
      "'Lahore' it is one of the cleanist city\n",
      "\n",
      "Please Enter your city name :\n",
      "Enter 'quit' to terminate the program....Karachi\n",
      "'Karachi' it is one of the cleanist city\n",
      "\n",
      "Please Enter your city name :\n",
      "Enter 'quit' to terminate the program....Islamabad\n",
      "This city is not on the list.\n",
      "\n",
      "Please Enter your city name :\n",
      "Enter 'quit' to terminate the program....quit\n"
     ]
    }
   ],
   "source": [
    "#another representation of above program\n",
    "cities = ['Karachi' , 'Lahore' , 'Quetta' , 'California' , 'Great Falls' , 'London' , 'Humberg']\n",
    "city = ''\n",
    "while city != 'Quit':\n",
    "    city = input(\"\\nPlease Enter your city name :\\nEnter 'quit' to terminate the program....\").title()    \n",
    "    if city != 'Quit':\n",
    "        if city in cities:\n",
    "            print(\"'\" + city + \"' it is one of the cleanist city\")\n",
    "        else:\n",
    "            print(\"This city is not on the list.\")         \n",
    "    else:\n",
    "        break\n",
    "    "
   ]
  },
  {
   "cell_type": "code",
   "execution_count": 8,
   "metadata": {},
   "outputs": [
    {
     "name": "stdout",
     "output_type": "stream",
     "text": [
      "2\n",
      "4\n",
      "6\n",
      "8\n",
      "10\n"
     ]
    }
   ],
   "source": [
    "current_number= 0\n",
    "while current_number<10:\n",
    "    current_number +=1\n",
    "    if current_number%2!=0:\n",
    "        continue\n",
    "    print(current_number)"
   ]
  },
  {
   "cell_type": "code",
   "execution_count": 10,
   "metadata": {},
   "outputs": [
    {
     "name": "stdout",
     "output_type": "stream",
     "text": [
      "Enter 'quit' to close the program\n",
      "\n",
      "Enter which flavour you want to eat? Italian Tikka\n",
      "The flovour of your pizza is ITALIAN TIKKA.\n",
      "\n",
      "Enter the size of your pizza? 12\n",
      "The size of your pizza is 12.\n",
      "\n",
      "Enter your tooping you want to add on your pizza? a\n",
      "Enter your tooping you want to add on your pizza? b\n",
      "Enter your tooping you want to add on your pizza? c\n",
      "Enter your tooping you want to add on your pizza? d\n",
      "Enter your tooping you want to add on your pizza? e\n",
      "Enter your tooping you want to add on your pizza? quit\n",
      "\n",
      "Here is all your toopings: \n",
      "You have added A.\n",
      "You have added B.\n",
      "You have added C.\n",
      "You have added D.\n",
      "You have added E.\n",
      "\n",
      "Do you want to order more pizza..\n",
      "What do you want to do now? yes\n",
      "Enter 'quit' to close the program\n",
      "\n",
      "Enter which flavour you want to eat? quit\n"
     ]
    }
   ],
   "source": [
    "y = []\n",
    "while True:\n",
    "    print(\"Enter 'quit' to close the program\")\n",
    "    flavour = input(\"\\nEnter which flavour you want to eat? \").upper()\n",
    "    if flavour == 'QUIT':\n",
    "        break\n",
    "    else:\n",
    "        print(\"The flovour of your pizza is \" + flavour + \".\")\n",
    "        \n",
    "        \n",
    "        \n",
    "    size = str(input(\"\\nEnter the size of your pizza? \")).upper()\n",
    "    if size == 'QUIT':\n",
    "        break\n",
    "    else:\n",
    "        print(\"The size of your pizza is \" + str(size) + \".\\n\")\n",
    "        \n",
    "        \n",
    "    tooping = ''\n",
    "    while tooping != 'QUIT':\n",
    "        tooping = input(\"Enter your tooping you want to add on your pizza? \").upper()\n",
    "        if tooping == 'QUIT':\n",
    "            break \n",
    "        else:\n",
    "            y.append(tooping)\n",
    "        \n",
    "        \n",
    "    print(\"\\nHere is all your toopings: \")\n",
    "    for toopings in y:\n",
    "        print(\"You have added \" + toopings + '.')\n",
    "        \n",
    "        \n",
    "    print(\"\\nDo you want to order more pizza..\")\n",
    "    order = input(\"What do you want to do now? \").upper()\n",
    "    \n",
    "    if order == 'YES':\n",
    "        continue\n",
    "\n",
    "    else:\n",
    "        break\n",
    "            \n",
    "            "
   ]
  },
  {
   "cell_type": "code",
   "execution_count": 12,
   "metadata": {},
   "outputs": [
    {
     "name": "stdout",
     "output_type": "stream",
     "text": [
      "['dog', 'cat', 'dog', 'goldfish', 'cat', 'rabbit', 'cat']\n",
      "['dog', 'dog', 'goldfish', 'rabbit']\n"
     ]
    }
   ],
   "source": [
    "# Removing All Instances of Specific Values from a List\n",
    "pets = ['dog', 'cat', 'dog', 'goldfish', 'cat', 'rabbit', 'cat']\n",
    "print(pets)\n",
    "while 'cat' in pets:\n",
    "    pets.remove('cat')\n",
    "print(pets)"
   ]
  },
  {
   "cell_type": "code",
   "execution_count": 26,
   "metadata": {},
   "outputs": [
    {
     "data": {
      "text/plain": [
       "True"
      ]
     },
     "execution_count": 26,
     "metadata": {},
     "output_type": "execute_result"
    }
   ],
   "source": [
    "L1 = [1,2,30]\n",
    "L2 = ['A','B','C']\n",
    "L3 = ['a','b','c']\n",
    "L3>L2\n",
    "L3>L1"
   ]
  },
  {
   "cell_type": "code",
   "execution_count": null,
   "metadata": {},
   "outputs": [],
   "source": []
  }
 ],
 "metadata": {
  "kernelspec": {
   "display_name": "Python 3",
   "language": "python",
   "name": "python3"
  },
  "language_info": {
   "codemirror_mode": {
    "name": "ipython",
    "version": 3
   },
   "file_extension": ".py",
   "mimetype": "text/x-python",
   "name": "python",
   "nbconvert_exporter": "python",
   "pygments_lexer": "ipython3",
   "version": "3.7.1"
  }
 },
 "nbformat": 4,
 "nbformat_minor": 2
}
