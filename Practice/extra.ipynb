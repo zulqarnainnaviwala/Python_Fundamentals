{
 "cells": [
  {
   "cell_type": "code",
   "execution_count": 21,
   "metadata": {},
   "outputs": [
    {
     "name": "stdout",
     "output_type": "stream",
     "text": [
      "['a', 'b', 'c', 'd', 'e', 'f', 'g', 'h', 'i', 'j']\n",
      "['a', 'b', 'c', 'd', 'e', 'f', 'g', 'h', 'i', 'j', 'k', 'l', 'm', 'n', 'o', 'p', 'q', 'r', 's', 't', 'u', 'v', 'w', 'x', 'y', 'z']\n",
      "['z', 'u', 'l', 'q', 'a', 'r', 'n', 'i', 'a', 'n']\n"
     ]
    },
    {
     "data": {
      "text/plain": [
       "['1', '2', '3', '4', '5', '6', '7', '8', '9', 'p', '1', '0']"
      ]
     },
     "execution_count": 21,
     "metadata": {},
     "output_type": "execute_result"
    }
   ],
   "source": [
    "#extend function --> extends the provide string \"bit vise\" in a list , can't provide integer e.g extend(987) because it'll be read as single value ,but you can do extend(\"987\") will read as str\n",
    "alphabets = ['a','b','c','d','e','f','g','h','i','j']\n",
    "print(alphabets)\n",
    "alphabets.extend(\"klmnopqrstuvwxyz\")\n",
    "print(alphabets)\n",
    "\n",
    "lt= []\n",
    "lt.extend(\"zulqarnian\") #if you need to initialize something |haracter by character in list so it's a better approach or want to save user input char by char\n",
    "print(lt)\n",
    "\n",
    "k = []\n",
    "k.extend('123456789p10')\n",
    "k"
   ]
  },
  {
   "cell_type": "code",
   "execution_count": 25,
   "metadata": {},
   "outputs": [
    {
     "name": "stdout",
     "output_type": "stream",
     "text": [
      "2\n",
      "\n",
      "4\n",
      "\n"
     ]
    },
    {
     "data": {
      "text/plain": [
       "6"
      ]
     },
     "execution_count": 25,
     "metadata": {},
     "output_type": "execute_result"
    }
   ],
   "source": [
    "l_i_l = [0,[1,2],3,4,5,[6,7,[8,9]],10]\n",
    "print(l_i_l [1][1])\n",
    "print()\n",
    "\n",
    "listInList = [0,1,2,3,[0,1,2,3,[0,1,2,3,4,5,6,7,8,9],5,6,7,8,9],5,6,7,8,9]\n",
    "print(listInList [4][4][4])\n",
    "print()\n",
    "\n",
    "#index function --> returns the index number of element \n",
    "\n",
    "#9s index in l_i_l\n",
    "l_i_l [5][2].index(9)\n",
    "l_i_l.index(10)\n"
   ]
  },
  {
   "cell_type": "code",
   "execution_count": 3,
   "metadata": {},
   "outputs": [
    {
     "name": "stdout",
     "output_type": "stream",
     "text": [
      "name is Fahad and father name is Zafar\n",
      "\n",
      "name is Fahad and father name is Fahad\n",
      "\n",
      "name is Zafar and father name is Zafar \n",
      "\n",
      "name is Fahad and father name is Zafar \n",
      "\n"
     ]
    }
   ],
   "source": [
    "#string access,slice as like lists in python\n",
    "\n",
    "#STRING FORMATTING\n",
    "\n",
    "name = \"Fahad\"\n",
    "fatherName = \"Zafar\"\n",
    "#print(\"name is \"+name+\" and father name is \"+fatherName+\"\\n\") \n",
    "print(\"name is {} and father name is {}\\n\".format(name,fatherName)) #  {} --> place holder \n",
    "print(\"name is {0} and father name is {0}\\n\".format(name,fatherName))\n",
    "print(\"name is {1} and father name is {1} \\n\".format(name,fatherName))\n",
    "#another method\n",
    "print(f\"name is {name} and father name is {fatherName} \\n\")"
   ]
  },
  {
   "cell_type": "code",
   "execution_count": 27,
   "metadata": {},
   "outputs": [
    {
     "name": "stdout",
     "output_type": "stream",
     "text": [
      "<class 'tuple'>\n",
      "('Apple', 'Oranges', 'Strawberry')\n",
      "(12, 12, 34, 5, 456, 76, 56, 43) 12 34 5 456 76 56 43\n",
      "99\n",
      "<class 'int'>\n",
      "(12, 12, 34, 5, 456, 76, 56, 43)\n"
     ]
    }
   ],
   "source": [
    "#tuple --> immutable (can't be change , can't modify anything), can be slice but will return a  tuple\n",
    "# A mutable object can be changed after it's created, and an immutable object can't.\n",
    "tupple = ('Apple','Oranges','Strawberry')\n",
    "print(type(tupple))\n",
    "\n",
    "print(tupple)\n",
    "\n",
    "a = 12,12,34,5,456,76,56,43 #packing of values (tupple)\n",
    "b,c,c,d,e,f,g,h = a #unpacking values\n",
    "\n",
    "print(a,b,c,d,e,f,g,h)\n",
    "print(g+h)\n",
    "print(type(d))\n",
    "print(a)"
   ]
  },
  {
   "cell_type": "code",
   "execution_count": 28,
   "metadata": {},
   "outputs": [
    {
     "name": "stdout",
     "output_type": "stream",
     "text": [
      "1*1*1\n",
      "111*"
     ]
    }
   ],
   "source": [
    "X=Y=Z=1\n",
    "print(X,Y,Z,sep=\"*\")\n",
    "print(X,Y,Z,end=\"*\",sep='')"
   ]
  },
  {
   "cell_type": "code",
   "execution_count": 35,
   "metadata": {},
   "outputs": [
    {
     "data": {
      "text/plain": [
       "64"
      ]
     },
     "execution_count": 35,
     "metadata": {},
     "output_type": "execute_result"
    }
   ],
   "source": [
    "lamb=lambda x:x ** 3\n",
    "lamb(4)\n",
    "# lamb"
   ]
  },
  {
   "cell_type": "code",
   "execution_count": 37,
   "metadata": {},
   "outputs": [
    {
     "name": "stdout",
     "output_type": "stream",
     "text": [
      "2\n",
      "4\n",
      "6\n",
      "8\n",
      "10\n",
      "12\n",
      "14\n",
      "16\n",
      "18\n",
      "20\n",
      "22\n",
      "24\n",
      "26\n",
      "28\n",
      "30\n",
      "32\n",
      "34\n",
      "36\n",
      "38\n",
      "40\n",
      "42\n",
      "44\n",
      "46\n",
      "48\n",
      "50\n",
      "52\n",
      "54\n",
      "56\n",
      "58\n",
      "60\n",
      "62\n",
      "64\n",
      "66\n",
      "68\n",
      "70\n",
      "72\n",
      "74\n",
      "76\n",
      "78\n",
      "80\n",
      "82\n",
      "84\n",
      "86\n",
      "88\n",
      "90\n",
      "92\n",
      "94\n",
      "96\n",
      "98\n",
      "100\n",
      "[2, 4, 6, 8, 10, 12, 14, 16, 18, 20, 22, 24, 26, 28, 30, 32, 34, 36, 38, 40, 42, 44, 46, 48, 50, 52, 54, 56, 58, 60, 62, 64, 66, 68, 70, 72, 74, 76, 78, 80, 82, 84, 86, 88, 90, 92, 94, 96, 98, 100]\n"
     ]
    }
   ],
   "source": [
    "for i in range(1,101):\n",
    "    if int(i*0.5)==i*0.5:\n",
    "        print(i)\n",
    "\n",
    "z=[i for i in range(1,101) if int(i*0.5) == i*0.5]\n",
    "print(z)"
   ]
  },
  {
   "cell_type": "code",
   "execution_count": 53,
   "metadata": {
    "scrolled": true
   },
   "outputs": [
    {
     "name": "stdout",
     "output_type": "stream",
     "text": [
      "m, y,  , n, a, m, e,  , i, s,  , x, , "
     ]
    }
   ],
   "source": [
    "string = \"m.y. .n.a.m.e. .i.s. .x.\"\n",
    "for i in string.split('.'): #jahan . mily wahann string door de , by default is space\n",
    "    print(i,end=\", \")"
   ]
  },
  {
   "cell_type": "code",
   "execution_count": 50,
   "metadata": {},
   "outputs": [
    {
     "name": "stdout",
     "output_type": "stream",
     "text": [
      "['good', '450']\n"
     ]
    },
    {
     "data": {
      "text/plain": [
       "str"
      ]
     },
     "execution_count": 50,
     "metadata": {},
     "output_type": "execute_result"
    }
   ],
   "source": [
    "i = [\"good\",\"oh!\",\"excellent!\",\"450\"]\n",
    "ch=[n for n in i if n.isalpha() or n.isdigit()]\n",
    "print(ch)\n",
    "type(ch[1])"
   ]
  }
 ],
 "metadata": {
  "kernelspec": {
   "display_name": "Python 3",
   "language": "python",
   "name": "python3"
  },
  "language_info": {
   "codemirror_mode": {
    "name": "ipython",
    "version": 3
   },
   "file_extension": ".py",
   "mimetype": "text/x-python",
   "name": "python",
   "nbconvert_exporter": "python",
   "pygments_lexer": "ipython3",
   "version": "3.7.1"
  }
 },
 "nbformat": 4,
 "nbformat_minor": 2
}
